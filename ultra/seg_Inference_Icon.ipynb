{
 "cells": [
  {
   "cell_type": "code",
   "execution_count": 1,
   "id": "ab6bd90b",
   "metadata": {},
   "outputs": [],
   "source": [
    "import numpy as np\n",
    "import glob, cv2\n",
    "import matplotlib.pyplot as plt\n",
    "\n",
    "from PIL import Image, ImageDraw\n",
    "\n",
    "# import albumentations.pytorch\n",
    "import torch\n",
    "import torch.distributed as dist\n",
    "import torch.nn as nn\n",
    "\n",
    "import torchvision\n",
    "import os\n",
    "import random\n",
    "import torch.utils.data as data_utils\n",
    "import datetime\n",
    "from shutil import copyfile\n",
    "import time\n",
    "import errno\n",
    "from tqdm import tqdm\n",
    "\n",
    "import scipy\n",
    "import torch.nn.functional as F"
   ]
  },
  {
   "cell_type": "code",
   "execution_count": 17,
   "id": "f446b0c6",
   "metadata": {},
   "outputs": [
    {
     "name": "stdout",
     "output_type": "stream",
     "text": [
      "/workspace/traffic_light/ultra\n"
     ]
    }
   ],
   "source": [
    "!pwd"
   ]
  },
  {
   "cell_type": "code",
   "execution_count": 15,
   "id": "4f739008",
   "metadata": {},
   "outputs": [
    {
     "ename": "SyntaxError",
     "evalue": "invalid syntax (95552169.py, line 3)",
     "output_type": "error",
     "traceback": [
      "\u001b[0;36m  Cell \u001b[0;32mIn[15], line 3\u001b[0;36m\u001b[0m\n\u001b[0;31m    from ../../ultra2/ultralytics import YOLO\u001b[0m\n\u001b[0m           ^\u001b[0m\n\u001b[0;31mSyntaxError\u001b[0m\u001b[0;31m:\u001b[0m invalid syntax\n"
     ]
    }
   ],
   "source": [
    "import sys\n",
    "sys.path.insert(0, '/workspace/traffic_light/ultra2')\n",
    "from ../../ultra2/ultralytics import YOLO"
   ]
  },
  {
   "cell_type": "code",
   "execution_count": 13,
   "id": "4be71411",
   "metadata": {},
   "outputs": [
    {
     "ename": "AttributeError",
     "evalue": "Can't get attribute 'Multi_v10Segment' on <module 'ultralytics.nn.modules.head' from '/workspace/traffic_light/ultra/ultralytics/nn/modules/head.py'>",
     "output_type": "error",
     "traceback": [
      "\u001b[0;31m---------------------------------------------------------------------------\u001b[0m",
      "\u001b[0;31mAttributeError\u001b[0m                            Traceback (most recent call last)",
      "Cell \u001b[0;32mIn[13], line 1\u001b[0m\n\u001b[0;32m----> 1\u001b[0m model \u001b[38;5;241m=\u001b[39m \u001b[43mYOLO\u001b[49m\u001b[43m(\u001b[49m\u001b[38;5;124;43m\"\u001b[39;49m\u001b[38;5;124;43m/workspace/traffic_light/ultra2/output/runs/segment/yolo10_a100/best.pt\u001b[39;49m\u001b[38;5;124;43m\"\u001b[39;49m\u001b[43m)\u001b[49m\u001b[38;5;241m.\u001b[39mcuda(\u001b[38;5;241m1\u001b[39m)\n\u001b[1;32m      2\u001b[0m \u001b[38;5;28mprint\u001b[39m(model\u001b[38;5;241m.\u001b[39mtask)\n",
      "File \u001b[0;32m/workspace/traffic_light/ultra/ultralytics/models/yolo/model.py:34\u001b[0m, in \u001b[0;36mYOLO.__init__\u001b[0;34m(self, model, task, verbose)\u001b[0m\n\u001b[1;32m     31\u001b[0m     \u001b[38;5;28mself\u001b[39m\u001b[38;5;241m.\u001b[39m\u001b[38;5;18m__dict__\u001b[39m \u001b[38;5;241m=\u001b[39m new_instance\u001b[38;5;241m.\u001b[39m\u001b[38;5;18m__dict__\u001b[39m\n\u001b[1;32m     32\u001b[0m \u001b[38;5;28;01melse\u001b[39;00m:\n\u001b[1;32m     33\u001b[0m     \u001b[38;5;66;03m# Continue with default YOLO initialization\u001b[39;00m\n\u001b[0;32m---> 34\u001b[0m     \u001b[38;5;28;43msuper\u001b[39;49m\u001b[43m(\u001b[49m\u001b[43m)\u001b[49m\u001b[38;5;241;43m.\u001b[39;49m\u001b[38;5;21;43m__init__\u001b[39;49m\u001b[43m(\u001b[49m\u001b[43mmodel\u001b[49m\u001b[38;5;241;43m=\u001b[39;49m\u001b[43mmodel\u001b[49m\u001b[43m,\u001b[49m\u001b[43m \u001b[49m\u001b[43mtask\u001b[49m\u001b[38;5;241;43m=\u001b[39;49m\u001b[43mtask\u001b[49m\u001b[43m,\u001b[49m\u001b[43m \u001b[49m\u001b[43mverbose\u001b[49m\u001b[38;5;241;43m=\u001b[39;49m\u001b[43mverbose\u001b[49m\u001b[43m)\u001b[49m\n",
      "File \u001b[0;32m/workspace/traffic_light/ultra/ultralytics/engine/model.py:150\u001b[0m, in \u001b[0;36mModel.__init__\u001b[0;34m(self, model, task, verbose)\u001b[0m\n\u001b[1;32m    148\u001b[0m     \u001b[38;5;28mself\u001b[39m\u001b[38;5;241m.\u001b[39m_new(model, task\u001b[38;5;241m=\u001b[39mtask, verbose\u001b[38;5;241m=\u001b[39mverbose)\n\u001b[1;32m    149\u001b[0m \u001b[38;5;28;01melse\u001b[39;00m:\n\u001b[0;32m--> 150\u001b[0m     \u001b[38;5;28;43mself\u001b[39;49m\u001b[38;5;241;43m.\u001b[39;49m\u001b[43m_load\u001b[49m\u001b[43m(\u001b[49m\u001b[43mmodel\u001b[49m\u001b[43m,\u001b[49m\u001b[43m \u001b[49m\u001b[43mtask\u001b[49m\u001b[38;5;241;43m=\u001b[39;49m\u001b[43mtask\u001b[49m\u001b[43m)\u001b[49m\n",
      "File \u001b[0;32m/workspace/traffic_light/ultra/ultralytics/engine/model.py:303\u001b[0m, in \u001b[0;36mModel._load\u001b[0;34m(self, weights, task)\u001b[0m\n\u001b[1;32m    298\u001b[0m weights \u001b[38;5;241m=\u001b[39m checks\u001b[38;5;241m.\u001b[39mcheck_model_file_from_stem(\n\u001b[1;32m    299\u001b[0m     weights\n\u001b[1;32m    300\u001b[0m )  \u001b[38;5;66;03m# add suffix, i.e. yolov8n -> yolov8n.pt\u001b[39;00m\n\u001b[1;32m    302\u001b[0m \u001b[38;5;28;01mif\u001b[39;00m Path(weights)\u001b[38;5;241m.\u001b[39msuffix \u001b[38;5;241m==\u001b[39m \u001b[38;5;124m\"\u001b[39m\u001b[38;5;124m.pt\u001b[39m\u001b[38;5;124m\"\u001b[39m:\n\u001b[0;32m--> 303\u001b[0m     \u001b[38;5;28mself\u001b[39m\u001b[38;5;241m.\u001b[39mmodel, \u001b[38;5;28mself\u001b[39m\u001b[38;5;241m.\u001b[39mckpt \u001b[38;5;241m=\u001b[39m \u001b[43mattempt_load_one_weight\u001b[49m\u001b[43m(\u001b[49m\u001b[43mweights\u001b[49m\u001b[43m)\u001b[49m\n\u001b[1;32m    304\u001b[0m     \u001b[38;5;28mself\u001b[39m\u001b[38;5;241m.\u001b[39mtask \u001b[38;5;241m=\u001b[39m \u001b[38;5;28mself\u001b[39m\u001b[38;5;241m.\u001b[39mmodel\u001b[38;5;241m.\u001b[39margs[\u001b[38;5;124m\"\u001b[39m\u001b[38;5;124mtask\u001b[39m\u001b[38;5;124m\"\u001b[39m]\n\u001b[1;32m    305\u001b[0m     \u001b[38;5;28mself\u001b[39m\u001b[38;5;241m.\u001b[39moverrides \u001b[38;5;241m=\u001b[39m \u001b[38;5;28mself\u001b[39m\u001b[38;5;241m.\u001b[39mmodel\u001b[38;5;241m.\u001b[39margs \u001b[38;5;241m=\u001b[39m \u001b[38;5;28mself\u001b[39m\u001b[38;5;241m.\u001b[39m_reset_ckpt_args(\u001b[38;5;28mself\u001b[39m\u001b[38;5;241m.\u001b[39mmodel\u001b[38;5;241m.\u001b[39margs)\n",
      "File \u001b[0;32m/workspace/traffic_light/ultra/ultralytics/nn/tasks.py:1083\u001b[0m, in \u001b[0;36mattempt_load_one_weight\u001b[0;34m(weight, device, inplace, fuse)\u001b[0m\n\u001b[1;32m   1081\u001b[0m \u001b[38;5;28;01mdef\u001b[39;00m \u001b[38;5;21mattempt_load_one_weight\u001b[39m(weight, device\u001b[38;5;241m=\u001b[39m\u001b[38;5;28;01mNone\u001b[39;00m, inplace\u001b[38;5;241m=\u001b[39m\u001b[38;5;28;01mTrue\u001b[39;00m, fuse\u001b[38;5;241m=\u001b[39m\u001b[38;5;28;01mFalse\u001b[39;00m):\n\u001b[1;32m   1082\u001b[0m \u001b[38;5;250m    \u001b[39m\u001b[38;5;124;03m\"\"\"Loads a single model weights.\"\"\"\u001b[39;00m\n\u001b[0;32m-> 1083\u001b[0m     ckpt, weight \u001b[38;5;241m=\u001b[39m \u001b[43mtorch_safe_load\u001b[49m\u001b[43m(\u001b[49m\u001b[43mweight\u001b[49m\u001b[43m)\u001b[49m  \u001b[38;5;66;03m# load ckpt\u001b[39;00m\n\u001b[1;32m   1084\u001b[0m     args \u001b[38;5;241m=\u001b[39m {\n\u001b[1;32m   1085\u001b[0m         \u001b[38;5;241m*\u001b[39m\u001b[38;5;241m*\u001b[39mDEFAULT_CFG_DICT,\n\u001b[1;32m   1086\u001b[0m         \u001b[38;5;241m*\u001b[39m\u001b[38;5;241m*\u001b[39m(ckpt\u001b[38;5;241m.\u001b[39mget(\u001b[38;5;124m\"\u001b[39m\u001b[38;5;124mtrain_args\u001b[39m\u001b[38;5;124m\"\u001b[39m, {})),\n\u001b[1;32m   1087\u001b[0m     }  \u001b[38;5;66;03m# combine model and default args, preferring model args\u001b[39;00m\n\u001b[1;32m   1088\u001b[0m     model \u001b[38;5;241m=\u001b[39m (ckpt\u001b[38;5;241m.\u001b[39mget(\u001b[38;5;124m\"\u001b[39m\u001b[38;5;124mema\u001b[39m\u001b[38;5;124m\"\u001b[39m) \u001b[38;5;129;01mor\u001b[39;00m ckpt[\u001b[38;5;124m\"\u001b[39m\u001b[38;5;124mmodel\u001b[39m\u001b[38;5;124m\"\u001b[39m])\u001b[38;5;241m.\u001b[39mto(device)\u001b[38;5;241m.\u001b[39mfloat()  \u001b[38;5;66;03m# FP32 model\u001b[39;00m\n",
      "File \u001b[0;32m/workspace/traffic_light/ultra/ultralytics/nn/tasks.py:1002\u001b[0m, in \u001b[0;36mtorch_safe_load\u001b[0;34m(weight, safe_only)\u001b[0m\n\u001b[1;32m   1000\u001b[0m                 ckpt \u001b[38;5;241m=\u001b[39m torch\u001b[38;5;241m.\u001b[39mload(f, pickle_module\u001b[38;5;241m=\u001b[39msafe_pickle)\n\u001b[1;32m   1001\u001b[0m         \u001b[38;5;28;01melse\u001b[39;00m:\n\u001b[0;32m-> 1002\u001b[0m             ckpt \u001b[38;5;241m=\u001b[39m \u001b[43mtorch\u001b[49m\u001b[38;5;241;43m.\u001b[39;49m\u001b[43mload\u001b[49m\u001b[43m(\u001b[49m\u001b[43mfile\u001b[49m\u001b[43m,\u001b[49m\u001b[43m \u001b[49m\u001b[43mmap_location\u001b[49m\u001b[38;5;241;43m=\u001b[39;49m\u001b[38;5;124;43m\"\u001b[39;49m\u001b[38;5;124;43mcpu\u001b[39;49m\u001b[38;5;124;43m\"\u001b[39;49m\u001b[43m)\u001b[49m\n\u001b[1;32m   1004\u001b[0m \u001b[38;5;28;01mexcept\u001b[39;00m \u001b[38;5;167;01mModuleNotFoundError\u001b[39;00m \u001b[38;5;28;01mas\u001b[39;00m e:  \u001b[38;5;66;03m# e.name is missing module name\u001b[39;00m\n\u001b[1;32m   1005\u001b[0m     \u001b[38;5;28;01mif\u001b[39;00m e\u001b[38;5;241m.\u001b[39mname \u001b[38;5;241m==\u001b[39m \u001b[38;5;124m\"\u001b[39m\u001b[38;5;124mmodels\u001b[39m\u001b[38;5;124m\"\u001b[39m:\n",
      "File \u001b[0;32m/workspace/traffic_light/ultra/ultralytics/utils/patches.py:86\u001b[0m, in \u001b[0;36mtorch_load\u001b[0;34m(*args, **kwargs)\u001b[0m\n\u001b[1;32m     83\u001b[0m \u001b[38;5;28;01mif\u001b[39;00m TORCH_1_13 \u001b[38;5;129;01mand\u001b[39;00m \u001b[38;5;124m\"\u001b[39m\u001b[38;5;124mweights_only\u001b[39m\u001b[38;5;124m\"\u001b[39m \u001b[38;5;129;01mnot\u001b[39;00m \u001b[38;5;129;01min\u001b[39;00m kwargs:\n\u001b[1;32m     84\u001b[0m     kwargs[\u001b[38;5;124m\"\u001b[39m\u001b[38;5;124mweights_only\u001b[39m\u001b[38;5;124m\"\u001b[39m] \u001b[38;5;241m=\u001b[39m \u001b[38;5;28;01mFalse\u001b[39;00m\n\u001b[0;32m---> 86\u001b[0m \u001b[38;5;28;01mreturn\u001b[39;00m \u001b[43m_torch_load\u001b[49m\u001b[43m(\u001b[49m\u001b[38;5;241;43m*\u001b[39;49m\u001b[43margs\u001b[49m\u001b[43m,\u001b[49m\u001b[43m \u001b[49m\u001b[38;5;241;43m*\u001b[39;49m\u001b[38;5;241;43m*\u001b[39;49m\u001b[43mkwargs\u001b[49m\u001b[43m)\u001b[49m\n",
      "File \u001b[0;32m/opt/conda/envs/ultra2/lib/python3.8/site-packages/torch/serialization.py:1097\u001b[0m, in \u001b[0;36mload\u001b[0;34m(f, map_location, pickle_module, weights_only, mmap, **pickle_load_args)\u001b[0m\n\u001b[1;32m   1095\u001b[0m             \u001b[38;5;28;01mexcept\u001b[39;00m \u001b[38;5;167;01mRuntimeError\u001b[39;00m \u001b[38;5;28;01mas\u001b[39;00m e:\n\u001b[1;32m   1096\u001b[0m                 \u001b[38;5;28;01mraise\u001b[39;00m pickle\u001b[38;5;241m.\u001b[39mUnpicklingError(_get_wo_message(\u001b[38;5;28mstr\u001b[39m(e))) \u001b[38;5;28;01mfrom\u001b[39;00m \u001b[38;5;28;01mNone\u001b[39;00m\n\u001b[0;32m-> 1097\u001b[0m         \u001b[38;5;28;01mreturn\u001b[39;00m \u001b[43m_load\u001b[49m\u001b[43m(\u001b[49m\n\u001b[1;32m   1098\u001b[0m \u001b[43m            \u001b[49m\u001b[43mopened_zipfile\u001b[49m\u001b[43m,\u001b[49m\n\u001b[1;32m   1099\u001b[0m \u001b[43m            \u001b[49m\u001b[43mmap_location\u001b[49m\u001b[43m,\u001b[49m\n\u001b[1;32m   1100\u001b[0m \u001b[43m            \u001b[49m\u001b[43mpickle_module\u001b[49m\u001b[43m,\u001b[49m\n\u001b[1;32m   1101\u001b[0m \u001b[43m            \u001b[49m\u001b[43moverall_storage\u001b[49m\u001b[38;5;241;43m=\u001b[39;49m\u001b[43moverall_storage\u001b[49m\u001b[43m,\u001b[49m\n\u001b[1;32m   1102\u001b[0m \u001b[43m            \u001b[49m\u001b[38;5;241;43m*\u001b[39;49m\u001b[38;5;241;43m*\u001b[39;49m\u001b[43mpickle_load_args\u001b[49m\u001b[43m,\u001b[49m\n\u001b[1;32m   1103\u001b[0m \u001b[43m        \u001b[49m\u001b[43m)\u001b[49m\n\u001b[1;32m   1104\u001b[0m \u001b[38;5;28;01mif\u001b[39;00m mmap:\n\u001b[1;32m   1105\u001b[0m     f_name \u001b[38;5;241m=\u001b[39m \u001b[38;5;124m\"\u001b[39m\u001b[38;5;124m\"\u001b[39m \u001b[38;5;28;01mif\u001b[39;00m \u001b[38;5;129;01mnot\u001b[39;00m \u001b[38;5;28misinstance\u001b[39m(f, \u001b[38;5;28mstr\u001b[39m) \u001b[38;5;28;01melse\u001b[39;00m \u001b[38;5;124mf\u001b[39m\u001b[38;5;124m\"\u001b[39m\u001b[38;5;132;01m{\u001b[39;00mf\u001b[38;5;132;01m}\u001b[39;00m\u001b[38;5;124m, \u001b[39m\u001b[38;5;124m\"\u001b[39m\n",
      "File \u001b[0;32m/opt/conda/envs/ultra2/lib/python3.8/site-packages/torch/serialization.py:1525\u001b[0m, in \u001b[0;36m_load\u001b[0;34m(zip_file, map_location, pickle_module, pickle_file, overall_storage, **pickle_load_args)\u001b[0m\n\u001b[1;32m   1522\u001b[0m \u001b[38;5;66;03m# Needed for tensors where storage device and rebuild tensor device are\u001b[39;00m\n\u001b[1;32m   1523\u001b[0m \u001b[38;5;66;03m# not connected (wrapper subclasses and tensors rebuilt using numpy)\u001b[39;00m\n\u001b[1;32m   1524\u001b[0m torch\u001b[38;5;241m.\u001b[39m_utils\u001b[38;5;241m.\u001b[39m_thread_local_state\u001b[38;5;241m.\u001b[39mmap_location \u001b[38;5;241m=\u001b[39m map_location\n\u001b[0;32m-> 1525\u001b[0m result \u001b[38;5;241m=\u001b[39m \u001b[43munpickler\u001b[49m\u001b[38;5;241;43m.\u001b[39;49m\u001b[43mload\u001b[49m\u001b[43m(\u001b[49m\u001b[43m)\u001b[49m\n\u001b[1;32m   1526\u001b[0m \u001b[38;5;28;01mdel\u001b[39;00m torch\u001b[38;5;241m.\u001b[39m_utils\u001b[38;5;241m.\u001b[39m_thread_local_state\u001b[38;5;241m.\u001b[39mmap_location\n\u001b[1;32m   1528\u001b[0m torch\u001b[38;5;241m.\u001b[39m_utils\u001b[38;5;241m.\u001b[39m_validate_loaded_sparse_tensors()\n",
      "File \u001b[0;32m/opt/conda/envs/ultra2/lib/python3.8/site-packages/torch/serialization.py:1515\u001b[0m, in \u001b[0;36m_load.<locals>.UnpicklerWrapper.find_class\u001b[0;34m(self, mod_name, name)\u001b[0m\n\u001b[1;32m   1513\u001b[0m         \u001b[38;5;28;01mpass\u001b[39;00m\n\u001b[1;32m   1514\u001b[0m mod_name \u001b[38;5;241m=\u001b[39m load_module_mapping\u001b[38;5;241m.\u001b[39mget(mod_name, mod_name)\n\u001b[0;32m-> 1515\u001b[0m \u001b[38;5;28;01mreturn\u001b[39;00m \u001b[38;5;28;43msuper\u001b[39;49m\u001b[43m(\u001b[49m\u001b[43m)\u001b[49m\u001b[38;5;241;43m.\u001b[39;49m\u001b[43mfind_class\u001b[49m\u001b[43m(\u001b[49m\u001b[43mmod_name\u001b[49m\u001b[43m,\u001b[49m\u001b[43m \u001b[49m\u001b[43mname\u001b[49m\u001b[43m)\u001b[49m\n",
      "\u001b[0;31mAttributeError\u001b[0m: Can't get attribute 'Multi_v10Segment' on <module 'ultralytics.nn.modules.head' from '/workspace/traffic_light/ultra/ultralytics/nn/modules/head.py'>"
     ]
    }
   ],
   "source": [
    "model = YOLO(\"/workspace/traffic_light/ultra2/output/runs/segment/yolo10_a100/best.pt\").cuda(1)\n",
    "print(model.task)"
   ]
  },
  {
   "cell_type": "code",
   "execution_count": 4,
   "id": "4ac4f87d",
   "metadata": {},
   "outputs": [
    {
     "name": "stdout",
     "output_type": "stream",
     "text": [
      "False\n"
     ]
    }
   ],
   "source": [
    "print(model.model.end2end)"
   ]
  },
  {
   "cell_type": "code",
   "execution_count": 5,
   "id": "f2dad38b",
   "metadata": {},
   "outputs": [],
   "source": [
    "# --------------Class Param------------\n",
    "agent_classes = [\"Car\", \"Bus\"]\n",
    "loc_classes = [\"VehLane\", \"OutgoLane\", \"IncomLane\", \"Jun\", \"Parking\"]\n",
    "action_classes = [\"Brake\", \"IncatLft\", \"IncatRht\", \"HazLit\"]\n",
    "class_nums = [len(agent_classes), len(loc_classes), len(action_classes)]\n",
    "# --------------Class Param------------\n"
   ]
  },
  {
   "cell_type": "code",
   "execution_count": 6,
   "id": "8c700e31",
   "metadata": {},
   "outputs": [],
   "source": [
    "icons = {}\n",
    "for actions in action_classes:\n",
    "    target = \"./Icons/\" + actions + \".png\"\n",
    "    icon_img = cv2.imread(target)\n",
    "    icon_img = cv2.cvtColor(icon_img, cv2.COLOR_BGR2RGB)\n",
    "    icons[actions] = icon_img\n",
    "\n",
    "for actions in loc_classes:\n",
    "    # print(actions)\n",
    "    target = \"./Icons/\" + actions + \".png\"\n",
    "    icon_img = cv2.imread(target)\n",
    "    icon_img = cv2.cvtColor(icon_img, cv2.COLOR_BGR2RGB)\n",
    "    icons[actions] = icon_img"
   ]
  },
  {
   "cell_type": "code",
   "execution_count": 10,
   "id": "c88fca5a",
   "metadata": {},
   "outputs": [],
   "source": [
    "def seg_plot_one_box(x, idx, img, mask, cls, loc, action, color=None, label=None, track_id=None, line_thickness=None):\n",
    "    # Plots one bounding box on image img\n",
    "    tl = line_thickness or 2  # line thickness\n",
    "    color = color or [random.randint(0, 255) for _ in range(3)]\n",
    "\n",
    "    c1, c2 = (\n",
    "        (np.clip(int(x[0]), 0, img.shape[1]), np.clip(int(x[1]), 0, img.shape[0])),\n",
    "        (np.clip(int(x[2]), 0, img.shape[1]), np.clip(int(x[3]), 0, img.shape[0])),\n",
    "    )\n",
    "\n",
    "    cv2.rectangle(img, c1, c2, color, thickness=1)\n",
    "\n",
    "    agent_list = [\"Car\", \"Bus\"]\n",
    "    loc_list = [\"VehLane\", \"OutgoLane\", \"IncomLane\", \"Jun\", \"Parking\"]\n",
    "    action_list = [\"Brake\", \"IncatLft\", \"IncatRht\", \"HazLit\"]\n",
    "\n",
    "    num_icon = np.sum(action)\n",
    "\n",
    "    icon_size = int(np.min([(c2[0] - c1[0]) / num_icon, (x[3] - x[1]) / 2, 64]))\n",
    "    c3 = c1[0]  # +(c2[0]-c1[0])//2-icon_size*num_icon//2\n",
    "\n",
    "    try:\n",
    "        offset_icon = 0\n",
    "        for ii in range(len(action)):\n",
    "            if action[ii] == 1:\n",
    "                img[c1[1] : c1[1] + icon_size, c3 + offset_icon : c3 + offset_icon + icon_size, :] = (\n",
    "                    cv2.resize(icons[action_list[ii]], (icon_size, icon_size), interpolation=cv2.INTER_NEAREST) * 0.5\n",
    "                    + img[c1[1] : c1[1] + icon_size, c3 + offset_icon : c3 + offset_icon + icon_size, :] * 0.5\n",
    "                )\n",
    "                offset_icon += icon_size\n",
    "\n",
    "        img[c2[1] - icon_size : c2[1], c3 : c3 + icon_size, :] = (\n",
    "            cv2.resize(icons[loc_list[loc]], (icon_size, icon_size)) * 0.5\n",
    "            + img[c2[1] - icon_size : c2[1], c3 : c3 + icon_size, :] * 0.5\n",
    "        )\n",
    "\n",
    "    except:\n",
    "        pass\n",
    "\n",
    "    # Expand mask dimensions to match the image\n",
    "    mask = mask[c1[1] : c2[1], c1[0] : c2[0]]\n",
    "    mask = mask > 0.5\n",
    "\n",
    "    img[c1[1] : c2[1], c1[0] : c2[0], :][mask] = (\n",
    "        img[c1[1] : c2[1], c1[0] : c2[0], :][mask] * 0.65 + np.array(color) * 0.35\n",
    "    )\n"
   ]
  },
  {
   "cell_type": "code",
   "execution_count": 21,
   "id": "188f003e",
   "metadata": {},
   "outputs": [
    {
     "name": "stdout",
     "output_type": "stream",
     "text": [
      "./Result/segment\n"
     ]
    }
   ],
   "source": [
    "filepath = \"./Result/segment/predictions\"\n",
    "print(os.path.dirname(filepath))"
   ]
  },
  {
   "cell_type": "code",
   "execution_count": 27,
   "id": "22c83834",
   "metadata": {},
   "outputs": [
    {
     "name": "stdout",
     "output_type": "stream",
     "text": [
      "Making New dir\n"
     ]
    }
   ],
   "source": [
    "import shutil\n",
    "import time\n",
    "\n",
    "try:\n",
    "    shutil.rmtree(\"./Result/segment/predictions\")\n",
    "    print(\"Removed New dir\")\n",
    "except:\n",
    "    print(\"Making New dir\")\n",
    "\n",
    "filepath = \"./Result/segment/predictions\"\n",
    "if not os.path.exists(filepath):\n",
    "    try:\n",
    "        os.makedirs(filepath)\n",
    "    except OSError as exc:  # Guard against race condition\n",
    "        if exc.errno != errno.EEXIST:\n",
    "            raise\n",
    "\n",
    "COLORS = [\n",
    "    [255, 0, 0],  # Red\n",
    "    [0, 255, 0],  # Green\n",
    "    [0, 0, 255],  # Blue\n",
    "    [255, 255, 0],  # Yellow\n",
    "    [255, 0, 255],  # Magenta\n",
    "    [0, 255, 255],  # Cyan\n",
    "    [128, 0, 0],  # Maroon\n",
    "    [0, 128, 0],  # Green (dark)\n",
    "    [0, 0, 128],  # Navy\n",
    "    [128, 128, 0],  # Olive\n",
    "    [128, 0, 128],  # Purple\n",
    "    [0, 128, 128],  # Teal\n",
    "    [255, 165, 0],  # Orange\n",
    "    [210, 180, 140],  # Tan\n",
    "    [255, 192, 203],  # Pink\n",
    "    [0, 128, 128],  # Teal\n",
    "    [255, 99, 71],  # Tomato\n",
    "    [139, 69, 19],  # Saddle Brown\n",
    "    [0, 128, 0],  # Green (dark)\n",
    "    [255, 20, 147],  # Deep Pink\n",
    "]"
   ]
  },
  {
   "cell_type": "code",
   "execution_count": 39,
   "id": "0bb8a374",
   "metadata": {},
   "outputs": [
    {
     "name": "stderr",
     "output_type": "stream",
     "text": [
      "  0%|          | 0/203 [00:00<?, ?it/s]"
     ]
    },
    {
     "name": "stdout",
     "output_type": "stream",
     "text": [
      "3 6\n",
      "[[     594.21      284.34      749.01      406.98     0.95301           0]\n",
      " [     526.43      286.27      619.52      345.74     0.91936           0]\n",
      " [     739.21       282.7      809.52      333.39     0.90585           0]]\n"
     ]
    },
    {
     "name": "stderr",
     "output_type": "stream",
     "text": [
      "\n"
     ]
    },
    {
     "ename": "IndexError",
     "evalue": "index 6 is out of bounds for axis 1 with size 6",
     "output_type": "error",
     "traceback": [
      "\u001b[0;31m---------------------------------------------------------------------------\u001b[0m",
      "\u001b[0;31mIndexError\u001b[0m                                Traceback (most recent call last)",
      "Cell \u001b[0;32mIn[39], line 42\u001b[0m\n\u001b[1;32m     40\u001b[0m xyxy \u001b[38;5;241m=\u001b[39m target_outputs[:, \u001b[38;5;241m0\u001b[39m:\u001b[38;5;241m4\u001b[39m]\n\u001b[1;32m     41\u001b[0m \u001b[38;5;28mcls\u001b[39m \u001b[38;5;241m=\u001b[39m target_outputs[:, \u001b[38;5;241m5\u001b[39m]\u001b[38;5;241m.\u001b[39mastype(\u001b[38;5;124m\"\u001b[39m\u001b[38;5;124mint\u001b[39m\u001b[38;5;124m\"\u001b[39m)\n\u001b[0;32m---> 42\u001b[0m loc \u001b[38;5;241m=\u001b[39m \u001b[43mtarget_outputs\u001b[49m\u001b[43m[\u001b[49m\u001b[43m:\u001b[49m\u001b[43m,\u001b[49m\u001b[43m \u001b[49m\u001b[38;5;241;43m6\u001b[39;49m\u001b[43m]\u001b[49m\u001b[38;5;241m.\u001b[39mastype(\u001b[38;5;124m\"\u001b[39m\u001b[38;5;124mint\u001b[39m\u001b[38;5;124m\"\u001b[39m)\n\u001b[1;32m     43\u001b[0m action \u001b[38;5;241m=\u001b[39m target_outputs[:, \u001b[38;5;241m7\u001b[39m:]\u001b[38;5;241m.\u001b[39mastype(\u001b[38;5;124m\"\u001b[39m\u001b[38;5;124mint\u001b[39m\u001b[38;5;124m\"\u001b[39m)\n\u001b[1;32m     44\u001b[0m \u001b[38;5;28mprint\u001b[39m(\u001b[38;5;124mf\u001b[39m\u001b[38;5;124m\"\u001b[39m\u001b[38;5;124maction: \u001b[39m\u001b[38;5;132;01m{\u001b[39;00maction\u001b[38;5;132;01m}\u001b[39;00m\u001b[38;5;124m \u001b[39m\u001b[38;5;130;01m\\n\u001b[39;00m\u001b[38;5;124m loc: \u001b[39m\u001b[38;5;132;01m{\u001b[39;00mloc\u001b[38;5;132;01m}\u001b[39;00m\u001b[38;5;124m, \u001b[39m\u001b[38;5;130;01m\\n\u001b[39;00m\u001b[38;5;124m cls: \u001b[39m\u001b[38;5;132;01m{\u001b[39;00m\u001b[38;5;28mcls\u001b[39m\u001b[38;5;132;01m}\u001b[39;00m\u001b[38;5;130;01m\\n\u001b[39;00m\u001b[38;5;124m\"\u001b[39m)\n",
      "\u001b[0;31mIndexError\u001b[0m: index 6 is out of bounds for axis 1 with size 6"
     ]
    }
   ],
   "source": [
    "count = 0\n",
    "frame_num = 0\n",
    "write = True\n",
    "t1 = []\n",
    "t2 = []\n",
    "t3 = []\n",
    "t4 = []\n",
    "t5 = []\n",
    "old_reid_feat = []\n",
    "reid_feat = []\n",
    "track_num = 1\n",
    "track_thresh = 0.5\n",
    "target_folder = \"/workspace/traffic_light/data/segmentation/test/IllegalParking01_Rain/img\"  # Target Dir\n",
    "\n",
    "try:\n",
    "    searchLabel = sorted(os.listdir(target_folder))\n",
    "except:\n",
    "    print(\"Invalid Target Dir\")\n",
    "\n",
    "with torch.no_grad():\n",
    "    for jj in tqdm(range(len(searchLabel) - 1)):\n",
    "        \n",
    "        if True: #jj % 70 == 0 and jj < 1000:\n",
    "            # ===============================\n",
    "            t1.append(time.time())\n",
    "            # ===============================\n",
    "\n",
    "            img_name = target_folder + \"/\" + searchLabel[jj]\n",
    "            results = model(img_name, verbose=False, imgsz=[480, 1280])\n",
    "\n",
    "            # ===============================\n",
    "            t2.append(time.time())\n",
    "            # ===============================\n",
    "            target_outputs = results[0].boxes.data.cpu().numpy()\n",
    "            target_img = results[0].orig_img\n",
    "\n",
    "            target_img = np.array(target_img[:, :, ::-1])\n",
    "            print(len(target_outputs), len(target_outputs[0]))\n",
    "            print(target_outputs)\n",
    "            xyxy = target_outputs[:, 0:4]\n",
    "            cls = target_outputs[:, 5].astype(\"int\")\n",
    "            loc = target_outputs[:, 6].astype(\"int\")\n",
    "            action = target_outputs[:, 7:].astype(\"int\")\n",
    "            print(f\"action: {action} \\n loc: {loc}, \\n cls: {cls}\\n\")\n",
    "            # ===============================\n",
    "            t3.append(time.time())\n",
    "            # ===============================\n",
    "            for i in range(xyxy.shape[0]):\n",
    "                # print(naming_num[i])\n",
    "\n",
    "                seg_plot_one_box(\n",
    "                    xyxy[i],\n",
    "                    i,\n",
    "                    target_img,\n",
    "                    results[0].masks.data[i].cpu().numpy(),\n",
    "                    cls[i],\n",
    "                    loc[i],\n",
    "                    action[i],\n",
    "                    color=COLORS[i % len(COLORS)],\n",
    "                )\n",
    "\n",
    "            # ===============================\n",
    "\n",
    "            t4.append(time.time())\n",
    "\n",
    "            if write:\n",
    "                target_img = target_img.copy()\n",
    "\n",
    "                path = \"./Result/segment/predictions\" + str(jj).zfill(6) + \".png\"\n",
    "                cv2.imwrite(path, target_img[:, :, ::-1])\n",
    "            else:\n",
    "                plt.rcParams[\"figure.figsize\"] = [20, 10]\n",
    "                plt.imshow(target_img)\n",
    "                # plt.show()\n",
    "            break"
   ]
  },
  {
   "cell_type": "code",
   "execution_count": 17,
   "id": "1200e960",
   "metadata": {},
   "outputs": [
    {
     "name": "stdout",
     "output_type": "stream",
     "text": [
      "Run model              : nan\n",
      "Post Process           : nan\n",
      "Plot Results           : nan\n"
     ]
    }
   ],
   "source": [
    "# print('Read Image and register:' , np.median((np.array(t1)-np.array(t0))))\n",
    "print(\"Run model              :\", np.median((np.array(t2) - np.array(t1))))\n",
    "print(\"Post Process           :\", np.median((np.array(t3) - np.array(t2))))\n",
    "print(\"Plot Results           :\", np.median((np.array(t4) - np.array(t3))))\n",
    "# print('Tracking               :' , np.median((np.array(t5)-np.array(t4))))\n",
    "# print('Total Result           :' , np.median((np.array(t5)-np.array(t0))))\n",
    "# print('total images : ', idx)"
   ]
  },
  {
   "cell_type": "code",
   "execution_count": null,
   "id": "4ba33658",
   "metadata": {},
   "outputs": [],
   "source": []
  }
 ],
 "metadata": {
  "kernelspec": {
   "display_name": "ultra2",
   "language": "python",
   "name": "python3"
  },
  "language_info": {
   "codemirror_mode": {
    "name": "ipython",
    "version": 3
   },
   "file_extension": ".py",
   "mimetype": "text/x-python",
   "name": "python",
   "nbconvert_exporter": "python",
   "pygments_lexer": "ipython3",
   "version": "3.8.20"
  }
 },
 "nbformat": 4,
 "nbformat_minor": 5
}
