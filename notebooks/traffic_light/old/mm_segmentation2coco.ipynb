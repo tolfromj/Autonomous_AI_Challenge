{
 "cells": [
  {
   "cell_type": "code",
   "execution_count": 4,
   "metadata": {},
   "outputs": [],
   "source": [
    "import os\n",
    "import json\n",
    "\n",
    "from tqdm import tqdm\n",
    "from PIL import Image"
   ]
  },
  {
   "cell_type": "code",
   "execution_count": 5,
   "metadata": {},
   "outputs": [],
   "source": [
    "\"\"\"\n",
    "agent_classes = [\"Car\", \"Bus\"]\n",
    "loc_classes = [\"VehLane\", \"OutgoLane\", \"IncomLane\", \"Jun\", \"Parking\"]\n",
    "action_classes = [\"Brake\", \"IncatLft\", \"IncatRht\", \"HazLit\"]\n",
    "\"\"\"\n",
    "\n",
    "categories = [\n",
    "    {\"id\": 0, \"name\": \"Car_VehLane\", \"supercategory\": \"Car_VehLane\"},\n",
    "    {\"id\": 1, \"name\": \"Car_VehLane_IncatLft\", \"supercategory\": \"Car_VehLane_IncatLft\"},\n",
    "    {\"id\": 2, \"name\": \"Car_VehLane_IncatRht\", \"supercategory\": \"Car_VehLane_IncatRht\"},\n",
    "    {\"id\": 3, \"name\": \"Car_VehLane_HazLit\", \"supercategory\": \"Car_VehLane_HazLit\"},\n",
    "    {\"id\": 4, \"name\": \"Car_VehLane_Brake\", \"supercategory\": \"Car_VehLane_Brake\"},\n",
    "    {\"id\": 5, \"name\": \"Car_VehLane_Brake_IncatLft\", \"supercategory\": \"Car_VehLane_Brake_IncatLft\"},\n",
    "    {\"id\": 6, \"name\": \"Car_VehLane_Brake_IncatRht\", \"supercategory\": \"Car_VehLane_Brake_IncatRht\"},\n",
    "    {\"id\": 7, \"name\": \"Car_VehLane_Brake_HazLit\", \"supercategory\": \"Car_VehLane_Brake_HazLit\"},\n",
    "    \n",
    "    {\"id\": 8, \"name\": \"Car_OutgoLane\", \"supercategory\": \"Car_OutgoLane\"},\n",
    "    {\"id\": 9, \"name\": \"Car_OutgoLane_IncatLft\", \"supercategory\": \"Car_OutgoLane_IncatLft\"},\n",
    "    {\"id\": 10, \"name\": \"Car_OutgoLane_IncatRht\", \"supercategory\": \"Car_OutgoLane_IncatRht\"},\n",
    "    {\"id\": 11, \"name\": \"Car_OutgoLane_HazLit\", \"supercategory\": \"Car_OutgoLane_HazLit\"},\n",
    "    {\"id\": 12, \"name\": \"Car_OutgoLane_Brake\", \"supercategory\": \"Car_OutgoLane_Brake\"},\n",
    "    {\"id\": 13, \"name\": \"Car_OutgoLane_Brake_IncatLft\", \"supercategory\": \"Car_OutgoLane_Brake_IncatLft\"},\n",
    "    {\"id\": 14, \"name\": \"Car_OutgoLane_Brake_IncatRht\", \"supercategory\": \"Car_OutgoLane_Brake_IncatRht\"},\n",
    "    {\"id\": 15, \"name\": \"Car_OutgoLane_Brake_HazLit\", \"supercategory\": \"Car_OutgoLane_Brake_HazLit\"},\n",
    "    \n",
    "    {\"id\": 16, \"name\": \"Car_IncomLane\", \"supercategory\": \"Car_IncomLane\"},\n",
    "    {\"id\": 17, \"name\": \"Car_IncomLane_IncatLft\", \"supercategory\": \"Car_IncomLane_IncatLft\"},\n",
    "    {\"id\": 18, \"name\": \"Car_IncomLane_IncatRht\", \"supercategory\": \"Car_IncomLane_IncatRht\"},\n",
    "    {\"id\": 19, \"name\": \"Car_IncomLane_HazLit\", \"supercategory\": \"Car_IncomLane_HazLit\"},\n",
    "    {\"id\": 20, \"name\": \"Car_IncomLane_Brake\", \"supercategory\": \"Car_IncomLane_Brake\"},\n",
    "    {\"id\": 21, \"name\": \"Car_IncomLane_Brake_IncatLft\", \"supercategory\": \"Car_IncomLane_Brake_IncatLft\"},\n",
    "    {\"id\": 22, \"name\": \"Car_IncomLane_Brake_IncatRht\", \"supercategory\": \"Car_IncomLane_Brake_IncatRht\"},\n",
    "    {\"id\": 23, \"name\": \"Car_IncomLane_Brake_HazLit\", \"supercategory\": \"Car_IncomLane_Brake_HazLit\"},\n",
    "    \n",
    "    {\"id\": 24, \"name\": \"Car_Jun\", \"supercategory\": \"Car_Jun\"},\n",
    "    {\"id\": 25, \"name\": \"Car_Jun_IncatLft\", \"supercategory\": \"Car_Jun_IncatLft\"},\n",
    "    {\"id\": 26, \"name\": \"Car_Jun_IncatRht\", \"supercategory\": \"Car_Jun_IncatRht\"},\n",
    "    {\"id\": 27, \"name\": \"Car_Jun_HazLit\", \"supercategory\": \"Car_Jun_HazLit\"},\n",
    "    {\"id\": 28, \"name\": \"Car_Jun_Brake\", \"supercategory\": \"Car_Jun_Brake\"},\n",
    "    {\"id\": 29, \"name\": \"Car_Jun_Brake_IncatLft\", \"supercategory\": \"Car_Jun_Brake_IncatLft\"},\n",
    "    {\"id\": 30, \"name\": \"Car_Jun_Brake_IncatRht\", \"supercategory\": \"Car_Jun_Brake_IncatRht\"},\n",
    "    {\"id\": 31, \"name\": \"Car_Jun_Brake_HazLit\", \"supercategory\": \"Car_Jun_Brake_HazLit\"},\n",
    "    \n",
    "    {\"id\": 32, \"name\": \"Car_Parking\", \"supercategory\": \"Car_Parking\"},\n",
    "    {\"id\": 33, \"name\": \"Car_Parking_IncatLft\", \"supercategory\": \"Car_Parking_IncatLft\"},\n",
    "    {\"id\": 34, \"name\": \"Car_Parking_IncatRht\", \"supercategory\": \"Car_Parking_IncatRht\"},\n",
    "    {\"id\": 35, \"name\": \"Car_Parking_HazLit\", \"supercategory\": \"Car_Parking_HazLit\"},\n",
    "    {\"id\": 36, \"name\": \"Car_Parking_Brake\", \"supercategory\": \"Car_Parking_Brake\"},\n",
    "    {\"id\": 37, \"name\": \"Car_Parking_Brake_IncatLft\", \"supercategory\": \"Car_Parking_Brake_IncatLft\"},\n",
    "    {\"id\": 38, \"name\": \"Car_Parking_Brake_IncatRht\", \"supercategory\": \"Car_Parking_Brake_IncatRht\"},\n",
    "    {\"id\": 39, \"name\": \"Car_Parking_Brake_HazLit\", \"supercategory\": \"Car_Parking_Brake_HazLit\"},\n",
    "    \n",
    "    {\"id\": 40, \"name\": \"Bus_VehLane\", \"supercategory\": \"Bus_VehLane\"},\n",
    "    {\"id\": 41, \"name\": \"Bus_VehLane_IncatLft\", \"supercategory\": \"Bus_VehLane_IncatLft\"},\n",
    "    {\"id\": 42, \"name\": \"Bus_VehLane_IncatRht\", \"supercategory\": \"Bus_VehLane_IncatRht\"},\n",
    "    {\"id\": 43, \"name\": \"Bus_VehLane_HazLit\", \"supercategory\": \"Bus_VehLane_HazLit\"},\n",
    "    {\"id\": 44, \"name\": \"Bus_VehLane_Brake\", \"supercategory\": \"Bus_VehLane_Brake\"},\n",
    "    {\"id\": 45, \"name\": \"Bus_VehLane_Brake_IncatLft\", \"supercategory\": \"Bus_VehLane_Brake_IncatLft\"},\n",
    "    {\"id\": 46, \"name\": \"Bus_VehLane_Brake_IncatRht\", \"supercategory\": \"Bus_VehLane_Brake_IncatRht\"},\n",
    "    {\"id\": 47, \"name\": \"Bus_VehLane_Brake_HazLit\", \"supercategory\": \"Bus_VehLane_Brake_HazLit\"},\n",
    "    \n",
    "    {\"id\": 48, \"name\": \"Bus_OutgoLane\", \"supercategory\": \"Bus_OutgoLane\"},\n",
    "    {\"id\": 49, \"name\": \"Bus_OutgoLane_IncatLft\", \"supercategory\": \"Bus_OutgoLane_IncatLft\"},\n",
    "    {\"id\": 50, \"name\": \"Bus_OutgoLane_IncatRht\", \"supercategory\": \"Bus_OutgoLane_IncatRht\"},\n",
    "    {\"id\": 51, \"name\": \"Bus_OutgoLane_HazLit\", \"supercategory\": \"Bus_OutgoLane_HazLit\"},\n",
    "    {\"id\": 52, \"name\": \"Bus_OutgoLane_Brake\", \"supercategory\": \"Bus_OutgoLane_Brake\"},\n",
    "    {\"id\": 53, \"name\": \"Bus_OutgoLane_Brake_IncatLft\", \"supercategory\": \"Bus_OutgoLane_Brake_IncatLft\"},\n",
    "    {\"id\": 54, \"name\": \"Bus_OutgoLane_Brake_IncatRht\", \"supercategory\": \"Bus_OutgoLane_Brake_IncatRht\"},\n",
    "    {\"id\": 55, \"name\": \"Bus_OutgoLane_Brake_HazLit\", \"supercategory\": \"Bus_OutgoLane_Brake_HazLit\"},\n",
    "    \n",
    "    {\"id\": 56, \"name\": \"Bus_IncomLane\", \"supercategory\": \"Bus_IncomLane\"},\n",
    "    {\"id\": 57, \"name\": \"Bus_IncomLane_IncatLft\", \"supercategory\": \"Bus_IncomLane_IncatLft\"},\n",
    "    {\"id\": 58, \"name\": \"Bus_IncomLane_IncatRht\", \"supercategory\": \"Bus_IncomLane_IncatRht\"},\n",
    "    {\"id\": 59, \"name\": \"Bus_IncomLane_HazLit\", \"supercategory\": \"Bus_IncomLane_HazLit\"},\n",
    "    {\"id\": 60, \"name\": \"Bus_IncomLane_Brake\", \"supercategory\": \"Bus_IncomLane_Brake\"},\n",
    "    {\"id\": 61, \"name\": \"Bus_IncomLane_Brake_IncatLft\", \"supercategory\": \"Bus_IncomLane_Brake_IncatLft\"},\n",
    "    {\"id\": 62, \"name\": \"Bus_IncomLane_Brake_IncatRht\", \"supercategory\": \"Bus_IncomLane_Brake_IncatRht\"},\n",
    "    {\"id\": 63, \"name\": \"Bus_IncomLane_Brake_HazLit\", \"supercategory\": \"Bus_IncomLane_Brake_HazLit\"},\n",
    "    \n",
    "    {\"id\": 64, \"name\": \"Bus_Jun\", \"supercategory\": \"Bus_Jun\"},\n",
    "    {\"id\": 65, \"name\": \"Bus_Jun_IncatLft\", \"supercategory\": \"Bus_Jun_IncatLft\"},\n",
    "    {\"id\": 66, \"name\": \"Bus_Jun_IncatRht\", \"supercategory\": \"Bus_Jun_IncatRht\"},\n",
    "    {\"id\": 67, \"name\": \"Bus_Jun_HazLit\", \"supercategory\": \"Bus_Jun_HazLit\"},\n",
    "    {\"id\": 68, \"name\": \"Bus_Jun_Brake\", \"supercategory\": \"Bus_Jun_Brake\"},\n",
    "    {\"id\": 69, \"name\": \"Bus_Jun_Brake_IncatRht\", \"supercategory\": \"Bus_Jun_Brake_IncatRht\"},\n",
    "    {\"id\": 70, \"name\": \"Bus_Jun_Brake_IncatLft\", \"supercategory\": \"Bus_Jun_Brake_IncatLft\"},\n",
    "    {\"id\": 71, \"name\": \"Bus_Jun_Brake_HazLit\", \"supercategory\": \"Bus_Jun_Brake_HazLit\"},\n",
    "    \n",
    "    {\"id\": 72, \"name\": \"Bus_Parking\", \"supercategory\": \"Bus_Parking\"},\n",
    "    {\"id\": 73, \"name\": \"Bus_Parking_IncatLft\", \"supercategory\": \"Bus_Parking_IncatLft\"},\n",
    "    {\"id\": 74, \"name\": \"Bus_Parking_IncatRht\", \"supercategory\": \"Bus_Parking_IncatRht\"},\n",
    "    {\"id\": 75, \"name\": \"Bus_Parking_HazLit\", \"supercategory\": \"Bus_Parking_HazLit\"},\n",
    "    {\"id\": 76, \"name\": \"Bus_Parking_Brake\", \"supercategory\": \"Bus_Parking_Brake\"},\n",
    "    {\"id\": 77, \"name\": \"Bus_Parking_Brake_IncatLft\", \"supercategory\": \"Bus_Parking_Brake_IncatLft\"},\n",
    "    {\"id\": 78, \"name\": \"Bus_Parking_Brake_IncatRht\", \"supercategory\": \"Bus_Parking_Brake_IncatRht\"},\n",
    "    {\"id\": 79, \"name\": \"Bus_Parking_Brake_HazLit\", \"supercategory\": \"Bus_Parking_Brake_HazLit\"},\n",
    "]"
   ]
  },
  {
   "cell_type": "code",
   "execution_count": 6,
   "metadata": {},
   "outputs": [],
   "source": [
    "# name_list = []\n",
    "# for i in categories:\n",
    "#     name_list.append(i['name'])\n",
    "# name_list"
   ]
  },
  {
   "cell_type": "code",
   "execution_count": 7,
   "metadata": {},
   "outputs": [],
   "source": [
    "# Assuming 80_classes is a list of strings with class names in the same order as defined before.\n",
    "# Example:\n",
    "# 80_classes = [\"Car_VehLane\", \"Car_OutgoLane\", ..., \"Bus_Parking_Brake_HazLit\"]\n",
    "\n",
    "def parse_classes_and_segmentation(file_path):\n",
    "    classes = []\n",
    "    segmentations = []\n",
    "\n",
    "    # Read the file line by line\n",
    "    with open(file_path, 'r') as file:\n",
    "        for line in file:\n",
    "            # Split line into parts and parse\n",
    "            values = line.split()\n",
    "            numbers = list(map(int, values[:6]))  # First six numbers\n",
    "            polygon_points = list(map(float, values[6:]))  # Remaining values for segmentation\n",
    "            \n",
    "            # Determine the class name based on the first six numbers\n",
    "            class_idx = (\n",
    "                numbers[0] * 40  # Car or Bus, 40 classes each\n",
    "                + numbers[1] * 8  # Lane type, 8 combinations per type\n",
    "                + numbers[2] * 4  # Brake status\n",
    "                + numbers[3] * 2  # IncatLft status\n",
    "                + numbers[4]      # IncatRht status\n",
    "            )\n",
    "            \n",
    "            # Add the class name and segmentation points to lists\n",
    "            classes.append(class_idx)\n",
    "            segmentations.append(polygon_points)\n",
    "    \n",
    "    return classes, segmentations\n",
    "\n"
   ]
  },
  {
   "cell_type": "code",
   "execution_count": 8,
   "metadata": {},
   "outputs": [],
   "source": [
    "def xyxyn2xyxy_polygon(segmentations, w, h):\n",
    "    boxes =[]\n",
    "    segmentations = [[e*w if i%2==0 else e*h for i, e in enumerate(seg)] for seg in segmentations]\n",
    "    # print('seg', segmentations)\n",
    "    for segmentation in segmentations:\n",
    "        x_min = min(segmentation[::2]) # x좌표\n",
    "        x_max = max(segmentation[::2])\n",
    "        y_min = min(segmentation[1::2]) # y좌표\n",
    "        y_max = max(segmentation[1::2])\n",
    "        boxes.append([x_min, y_min, x_max, y_max])\n",
    "    return boxes, segmentations"
   ]
  },
  {
   "cell_type": "code",
   "execution_count": 9,
   "metadata": {},
   "outputs": [],
   "source": [
    "def dataset2coco(root_dir, output_dir, train_val, dataset_num):\n",
    "\n",
    "    coco_dataset = {\n",
    "        \"info\": {\n",
    "            \"year\": 2024, \n",
    "            \"version\": \"1.0.0\", \n",
    "            \"description\": \"traffic light\", \n",
    "            \"contributor\": \"tlfromj\", \n",
    "            \"url\": \"\", \n",
    "            \"date_created\": \"2024-10-28 04:00:00\",\n",
    "        },\n",
    "        \"licenses\": [{\n",
    "            \"id\": 0, \n",
    "            \"name\": None, \n",
    "            \"url\": None,\n",
    "        }],\n",
    "        \"categories\": categories,\n",
    "        \"images\": [],\n",
    "        \"annotations\": []\n",
    "    }\n",
    "    \n",
    "    files = sorted(os.listdir(os.path.join(root_dir, f'labels/{train_val}{dataset_num}')))\n",
    "    anno_id=0\n",
    "    anno_dicts =[]\n",
    "    for image_id, file in enumerate(tqdm(files)):\n",
    "        file_name = os.path.splitext(file)[0]\n",
    "        file_path = os.path.join(root_dir, f'labels/{train_val}{dataset_num}/{file}')\n",
    "        \n",
    "        image_path = os.path.join(root_dir, f'images/{train_val}{dataset_num}/{file_name}.png')\n",
    "        width, height = Image.open(image_path).size\n",
    "\n",
    "        classes, segmentations = parse_classes_and_segmentation(file_path)\n",
    "        boxes, segmentations = xyxyn2xyxy_polygon(segmentations, width, height)\n",
    "\n",
    "        image_dict = {\n",
    "            \"id\": image_id,\n",
    "            \"width\": int(width),\n",
    "            \"height\": int(height),\n",
    "            \"file_name\": f\"{file_name}.png\", \n",
    "            \"license\": 0,\n",
    "            \"flickr_url\": None,\n",
    "            \"coco_url\": None,\n",
    "            \"date_captured\": None,\n",
    "        }\n",
    "        \n",
    "        coco_dataset[\"images\"].append(image_dict)\n",
    "        \n",
    "        for cl, box, segmentation in zip(classes, boxes, segmentations):\n",
    "            anno_dict = {\n",
    "                \"id\": anno_id,\n",
    "                \"image_id\": image_id,\n",
    "                \"category_id\": int(cl),\n",
    "                \"area\": float(width*height),\n",
    "                \"bbox\": box,\n",
    "                \"segmentation\": [segmentation],\n",
    "                \"iscrowd\": 0\n",
    "            }\n",
    "            anno_id+=1\n",
    "            anno_dicts.append(anno_dict)\n",
    "        \n",
    "    coco_dataset[\"annotations\"].extend(anno_dicts)\n",
    "    # print(anno_dicts)\n",
    "    # make coco_datset.json\n",
    "    output_path = os.path.join(output_dir, f'{train_val}{dataset_num}.json')\n",
    "    with open(output_path, 'w') as f:\n",
    "        json.dump(coco_dataset, f)\n",
    "    \n",
    "    print(f'created. {output_path}')"
   ]
  },
  {
   "cell_type": "code",
   "execution_count": 50,
   "metadata": {},
   "outputs": [
    {
     "name": "stderr",
     "output_type": "stream",
     "text": [
      "  0%|          | 0/29869 [00:00<?, ?it/s]"
     ]
    },
    {
     "name": "stderr",
     "output_type": "stream",
     "text": [
      "100%|██████████| 29869/29869 [00:10<00:00, 2973.68it/s]\n"
     ]
    },
    {
     "name": "stdout",
     "output_type": "stream",
     "text": [
      "created. /workspace/traffic_light/data/segmentation_coco/labels/train0.json\n"
     ]
    },
    {
     "name": "stderr",
     "output_type": "stream",
     "text": [
      "100%|██████████| 3318/3318 [00:00<00:00, 3785.18it/s]\n"
     ]
    },
    {
     "name": "stdout",
     "output_type": "stream",
     "text": [
      "created. /workspace/traffic_light/data/segmentation_coco/labels/val0.json\n"
     ]
    },
    {
     "name": "stderr",
     "output_type": "stream",
     "text": [
      "100%|██████████| 29869/29869 [00:09<00:00, 3104.94it/s]\n"
     ]
    },
    {
     "name": "stdout",
     "output_type": "stream",
     "text": [
      "created. /workspace/traffic_light/data/segmentation_coco/labels/train1.json\n"
     ]
    },
    {
     "name": "stderr",
     "output_type": "stream",
     "text": [
      "100%|██████████| 3318/3318 [00:00<00:00, 4011.62it/s]\n"
     ]
    },
    {
     "name": "stdout",
     "output_type": "stream",
     "text": [
      "created. /workspace/traffic_light/data/segmentation_coco/labels/val1.json\n"
     ]
    },
    {
     "name": "stderr",
     "output_type": "stream",
     "text": [
      "100%|██████████| 31528/31528 [00:10<00:00, 3103.09it/s]\n"
     ]
    },
    {
     "name": "stdout",
     "output_type": "stream",
     "text": [
      "created. /workspace/traffic_light/data/segmentation_coco/labels/train2.json\n"
     ]
    },
    {
     "name": "stderr",
     "output_type": "stream",
     "text": [
      "100%|██████████| 1659/1659 [00:00<00:00, 2699.77it/s]\n"
     ]
    },
    {
     "name": "stdout",
     "output_type": "stream",
     "text": [
      "created. /workspace/traffic_light/data/segmentation_coco/labels/val2.json\n"
     ]
    }
   ],
   "source": [
    "root_dir = '/workspace/traffic_light/data/segmentation_coco/'\n",
    "output_dir = '/workspace/traffic_light/data/segmentation_coco/labels/'\n",
    "# dataset2coco(root_dir, output_dir, 'train', 0)\n",
    "for j in range(3):\n",
    "    dataset2coco(root_dir, output_dir, 'train', j)\n",
    "    dataset2coco(root_dir, output_dir, 'val', j)"
   ]
  },
  {
   "cell_type": "code",
   "execution_count": 10,
   "metadata": {},
   "outputs": [],
   "source": [
    "import glob\n",
    "\n",
    "def make_test_coco(output_dir):\n",
    "    coco_dataset = {\n",
    "        \"info\": {\n",
    "            \"year\": 2024, \n",
    "            \"version\": \"1.0.0\", \n",
    "            \"description\": \"segmentation\", \n",
    "            \"contributor\": \"tlfromj\", \n",
    "            \"url\": \"\", \n",
    "            \"date_created\": \"2024-10-29 01:00:00\",\n",
    "        },\n",
    "        \"licenses\": [{\n",
    "            \"id\": 0, \n",
    "            \"name\": None, \n",
    "            \"url\": None,\n",
    "        }],\n",
    "        \"categories\": categories,\n",
    "        \"images\": [],\n",
    "        \"annotations\": []\n",
    "    }\n",
    "\n",
    "    image_path = os.path.join(root_dir, 'images/test')\n",
    "    img_files=glob.glob(f'{image_path}/*.png')\n",
    "    for image_id, img_file in enumerate(tqdm(img_files)):\n",
    "        file_name = os.path.splitext(os.path.basename(img_file))[0]\n",
    "        width, height = Image.open(img_file).size\n",
    "\n",
    "        image_dict = {\n",
    "            \"id\": image_id,\n",
    "            \"width\": int(width),\n",
    "            \"height\": int(height),\n",
    "            \"file_name\": f\"{file_name}.png\", \n",
    "            \"license\": 0,\n",
    "            \"flickr_url\": None,\n",
    "            \"coco_url\": None,\n",
    "            \"date_captured\": None,\n",
    "        }\n",
    "        \n",
    "        coco_dataset[\"images\"].append(image_dict)\n",
    "        \n",
    "    # make coco_test.json\n",
    "    output_path = os.path.join(output_dir, 'test.json')\n",
    "    with open(output_path, 'w') as f:\n",
    "        json.dump(coco_dataset, f)\n",
    "    \n",
    "    print(f'created. {output_path}')"
   ]
  },
  {
   "cell_type": "code",
   "execution_count": 11,
   "metadata": {},
   "outputs": [
    {
     "name": "stderr",
     "output_type": "stream",
     "text": [
      "  0%|          | 0/8909 [00:00<?, ?it/s]"
     ]
    },
    {
     "name": "stderr",
     "output_type": "stream",
     "text": [
      "100%|██████████| 8909/8909 [00:00<00:00, 14722.14it/s]"
     ]
    },
    {
     "name": "stdout",
     "output_type": "stream",
     "text": [
      "created. /workspace/traffic_light/data/segmentation_coco/labels/test.json\n"
     ]
    },
    {
     "name": "stderr",
     "output_type": "stream",
     "text": [
      "\n"
     ]
    }
   ],
   "source": [
    "root_dir = '/workspace/traffic_light/data/segmentation_coco/'\n",
    "output_dir = '/workspace/traffic_light/data/segmentation_coco/labels/'\n",
    "\n",
    "make_test_coco(output_dir)"
   ]
  }
 ],
 "metadata": {
  "kernelspec": {
   "display_name": "traffic",
   "language": "python",
   "name": "python3"
  },
  "language_info": {
   "codemirror_mode": {
    "name": "ipython",
    "version": 3
   },
   "file_extension": ".py",
   "mimetype": "text/x-python",
   "name": "python",
   "nbconvert_exporter": "python",
   "pygments_lexer": "ipython3",
   "version": "3.11.10"
  }
 },
 "nbformat": 4,
 "nbformat_minor": 2
}
