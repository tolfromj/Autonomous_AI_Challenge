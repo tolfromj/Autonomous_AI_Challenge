{
 "cells": [
  {
   "cell_type": "code",
   "execution_count": 1,
   "metadata": {},
   "outputs": [],
   "source": [
    "import os\n",
    "import json\n",
    "from pycocotools.coco import COCO"
   ]
  },
  {
   "cell_type": "code",
   "execution_count": 3,
   "metadata": {},
   "outputs": [
    {
     "name": "stdout",
     "output_type": "stream",
     "text": [
      "loading annotations into memory...\n",
      "Done (t=0.29s)\n",
      "creating index...\n",
      "index created!\n"
     ]
    }
   ],
   "source": [
    "ann_file='/workspace/traffic_light/data/detection/train/train.json'\n",
    "coco=COCO(ann_file)"
   ]
  },
  {
   "cell_type": "code",
   "execution_count": 5,
   "metadata": {},
   "outputs": [
    {
     "data": {
      "text/plain": [
       "[{'id': 276,\n",
       "  'width': 2048,\n",
       "  'height': 1536,\n",
       "  'file_name': '00000276.jpg',\n",
       "  'license': 0,\n",
       "  'flickr_url': None,\n",
       "  'coco_url': None,\n",
       "  'date_captured': None}]"
      ]
     },
     "execution_count": 5,
     "metadata": {},
     "output_type": "execute_result"
    }
   ],
   "source": [
    "coco.loadImgs(276)"
   ]
  },
  {
   "cell_type": "code",
   "execution_count": 7,
   "metadata": {},
   "outputs": [
    {
     "data": {
      "text/plain": [
       "[775, 776, 777, 778, 779, 780]"
      ]
     },
     "execution_count": 7,
     "metadata": {},
     "output_type": "execute_result"
    }
   ],
   "source": [
    "coco.getAnnIds(276)"
   ]
  },
  {
   "cell_type": "code",
   "execution_count": 15,
   "metadata": {},
   "outputs": [
    {
     "data": {
      "text/plain": [
       "[{'id': 778,\n",
       "  'image_id': 276,\n",
       "  'category_id': 1,\n",
       "  'area': 7191.006783995904,\n",
       "  'bbox': [1895.199744, 338.00064000000003, 152.800256, 47.000064],\n",
       "  'iscrowd': 0}]"
      ]
     },
     "execution_count": 15,
     "metadata": {},
     "output_type": "execute_result"
    }
   ],
   "source": [
    "coco.loadAnns(778)"
   ]
  },
  {
   "cell_type": "code",
   "execution_count": 17,
   "metadata": {},
   "outputs": [
    {
     "name": "stdout",
     "output_type": "stream",
     "text": [
      "loading annotations into memory...\n",
      "Done (t=0.34s)\n",
      "creating index...\n",
      "index created!\n"
     ]
    }
   ],
   "source": [
    "ann_file='/workspace/traffic_light/data/detection/train/train.json'\n",
    "coco=COCO(ann_file)"
   ]
  },
  {
   "cell_type": "code",
   "execution_count": 18,
   "metadata": {},
   "outputs": [
    {
     "data": {
      "text/plain": [
       "24178"
      ]
     },
     "execution_count": 18,
     "metadata": {},
     "output_type": "execute_result"
    }
   ],
   "source": [
    "len(coco.getImgIds())"
   ]
  },
  {
   "cell_type": "code",
   "execution_count": 65,
   "metadata": {},
   "outputs": [],
   "source": [
    "def split_labels_coco(anns_path, output_dir):\n",
    "    categories = [\n",
    "        {\"id\": 0, \"name\": \"veh_go\", \"supercategory\": \"veh_go\"},\n",
    "        {\"id\": 1, \"name\": \"veh_goLeft\", \"supercategory\": \"veh_goLeft\"},\n",
    "        {\"id\": 2, \"name\": \"veh_noSign\", \"supercategory\": \"veh_noSign\"},\n",
    "        {\"id\": 3, \"name\": \"veh_stop\", \"supercategory\": \"veh_stop\"},\n",
    "        {\"id\": 4, \"name\": \"veh_stopLeft\", \"supercategory\": \"veh_stopLeft\"},\n",
    "        {\"id\": 5, \"name\": \"veh_stopWarning\", \"supercategory\": \"veh_stopWarning\"},\n",
    "        {\"id\": 6, \"name\": \"veh_warning\", \"supercategory\": \"veh_warning\"},\n",
    "        {\"id\": 7, \"name\": \"ped_go\", \"supercategory\": \"ped_go\"},\n",
    "        {\"id\": 8, \"name\": \"ped_noSign\", \"supercategory\": \"ped_noSign\"},\n",
    "        {\"id\": 9, \"name\": \"ped_stop\", \"supercategory\": \"ped_stop\"},\n",
    "        {\"id\": 10, \"name\": \"bus_go\", \"supercategory\": \"bus_go\"},\n",
    "        {\"id\": 11, \"name\": \"bus_noSign\", \"supercategory\": \"bus_noSign\"},\n",
    "        {\"id\": 12, \"name\": \"bus_stop\", \"supercategory\": \"bus_stop\"},\n",
    "        {\"id\": 13, \"name\": \"bus_warning\", \"supercategory\": \"bus_warning\"}\n",
    "    ]\n",
    "    coco_dataset = {\n",
    "        \"info\": {\n",
    "            \"year\": 2024, \n",
    "            \"version\": \"1.0.0\", \n",
    "            \"description\": \"traffic light\", \n",
    "            \"contributor\": \"tlfromj\", \n",
    "            \"url\": \"\", \n",
    "            \"date_created\": \"2024-10-02 21:00:00\",\n",
    "        },\n",
    "        \"licenses\": [{\n",
    "            \"id\": 0, \n",
    "            \"name\": None, \n",
    "            \"url\": None,\n",
    "        }],\n",
    "        \"categories\": categories,\n",
    "        \"images\": [],\n",
    "        \"annotations\": []\n",
    "    }\n",
    "    anno_dicts = []\n",
    "\n",
    "    coco = COCO(anns_path)\n",
    "    result_path = os.path.join(output_dir, 'labels')\n",
    "    \n",
    "    for file in os.listdir(result_path):\n",
    "        image_id = int(os.path.splitext(file)[0])\n",
    "        image_dict = coco.loadImgs(image_id)[0]\n",
    "        coco_dataset[\"images\"].append(image_dict)\n",
    "        for anno_id in coco.getAnnIds(image_id):\n",
    "            anno_dict = coco.loadAnns(anno_id)[0]\n",
    "            anno_dicts.append(anno_dict)\n",
    "        \n",
    "    coco_dataset[\"annotations\"].extend(anno_dicts)\n",
    "    \n",
    "    # make train/val.json\n",
    "    basename = os.path.basename(output_dir)\n",
    "    if basename == 'train':\n",
    "        output = os.path.join(output_dir, 'train.json')\n",
    "    else:\n",
    "        output = os.path.join(output_dir, 'val.json')\n",
    "\n",
    "    with open(output, 'w') as f:\n",
    "        json.dump(coco_dataset, f)\n",
    "\n",
    "    print(f\"success {output}\")"
   ]
  },
  {
   "cell_type": "code",
   "execution_count": 2,
   "metadata": {},
   "outputs": [],
   "source": [
    "anns_path = '/workspace/traffic_light/data/detection/train/annotations.json'\n",
    "save_root_path = '/workspace/traffic_light/data/detection'\n",
    "\n",
    "train_labels_path = os.path.join(save_root_path, 'train')\n",
    "val_labels_path = os.path.join(save_root_path, 'val')"
   ]
  },
  {
   "cell_type": "code",
   "execution_count": 67,
   "metadata": {},
   "outputs": [
    {
     "name": "stdout",
     "output_type": "stream",
     "text": [
      "loading annotations into memory...\n",
      "Done (t=0.27s)\n",
      "creating index...\n",
      "index created!\n",
      "success /workspace/traffic_light/data/detection/train/train.json\n",
      "loading annotations into memory...\n",
      "Done (t=0.26s)\n",
      "creating index...\n",
      "index created!\n",
      "success /workspace/traffic_light/data/detection/val/val.json\n"
     ]
    }
   ],
   "source": [
    "split_labels_coco(anns_path, train_labels_path)\n",
    "split_labels_coco(anns_path, val_labels_path)"
   ]
  },
  {
   "cell_type": "code",
   "execution_count": 3,
   "metadata": {},
   "outputs": [
    {
     "name": "stdout",
     "output_type": "stream",
     "text": [
      "loading annotations into memory...\n",
      "Done (t=0.26s)\n",
      "creating index...\n",
      "index created!\n",
      "train length:  24178 \n",
      "\n",
      "loading annotations into memory...\n",
      "Done (t=0.08s)\n",
      "creating index...\n",
      "index created!\n",
      "val length:  2686\n"
     ]
    }
   ],
   "source": [
    "# 확인.\n",
    "coco_train = COCO(os.path.join(train_labels_path, \"train.json\"))\n",
    "print(\"train length: \", len(coco_train.imgs.keys()),'\\n')\n",
    "\n",
    "coco_val = COCO(os.path.join(val_labels_path, \"val.json\"))\n",
    "print(\"val length: \", len(coco_val.imgs.keys()))"
   ]
  },
  {
   "cell_type": "code",
   "execution_count": 4,
   "metadata": {},
   "outputs": [
    {
     "data": {
      "text/plain": [
       "[57331, 57332, 57333, 57334, 57335, 57336]"
      ]
     },
     "execution_count": 4,
     "metadata": {},
     "output_type": "execute_result"
    }
   ],
   "source": [
    "coco_train.getAnnIds(imgIds=16619)"
   ]
  },
  {
   "cell_type": "code",
   "execution_count": 8,
   "metadata": {},
   "outputs": [
    {
     "data": {
      "text/plain": [
       "[{'id': 16619,\n",
       "  'width': 1280,\n",
       "  'height': 768,\n",
       "  'file_name': '00016619.jpg',\n",
       "  'license': 0,\n",
       "  'flickr_url': None,\n",
       "  'coco_url': None,\n",
       "  'date_captured': None}]"
      ]
     },
     "execution_count": 8,
     "metadata": {},
     "output_type": "execute_result"
    }
   ],
   "source": [
    "coco_train.loadImgs(16619)"
   ]
  },
  {
   "cell_type": "code",
   "execution_count": 17,
   "metadata": {},
   "outputs": [
    {
     "data": {
      "text/plain": [
       "[{'id': 899,\n",
       "  'image_id': 325,\n",
       "  'category_id': 2,\n",
       "  'area': 1206.225318445056,\n",
       "  'bbox': [1109.9996159999998, 612.0, 32.600064, 37.000704],\n",
       "  'iscrowd': 0}]"
      ]
     },
     "execution_count": 17,
     "metadata": {},
     "output_type": "execute_result"
    }
   ],
   "source": [
    "coco_train.loadAnns(899)"
   ]
  },
  {
   "cell_type": "code",
   "execution_count": 71,
   "metadata": {},
   "outputs": [
    {
     "name": "stdout",
     "output_type": "stream",
     "text": [
      "loading annotations into memory...\n",
      "Done (t=0.41s)\n",
      "creating index...\n",
      "index created!\n"
     ]
    }
   ],
   "source": [
    "coco_orig = COCO(\"/workspace/traffic_light/data/detection/train/annotations.json\")"
   ]
  },
  {
   "cell_type": "code",
   "execution_count": 72,
   "metadata": {},
   "outputs": [
    {
     "data": {
      "text/plain": [
       "[{'id': 2,\n",
       "  'image_id': 1,\n",
       "  'category_id': 3,\n",
       "  'area': 69.99903989760001,\n",
       "  'bbox': [657.0003200000001,\n",
       "   157.99991999999997,\n",
       "   13.999360000000001,\n",
       "   5.000159999999999],\n",
       "  'iscrowd': 0}]"
      ]
     },
     "execution_count": 72,
     "metadata": {},
     "output_type": "execute_result"
    }
   ],
   "source": [
    "coco_orig.loadAnns(2)"
   ]
  },
  {
   "cell_type": "code",
   "execution_count": 58,
   "metadata": {},
   "outputs": [
    {
     "data": {
      "text/plain": [
       "[0, 1]"
      ]
     },
     "execution_count": 58,
     "metadata": {},
     "output_type": "execute_result"
    }
   ],
   "source": [
    "coco_orig.getAnnIds(0)"
   ]
  }
 ],
 "metadata": {
  "kernelspec": {
   "display_name": "traffic",
   "language": "python",
   "name": "python3"
  },
  "language_info": {
   "codemirror_mode": {
    "name": "ipython",
    "version": 3
   },
   "file_extension": ".py",
   "mimetype": "text/x-python",
   "name": "python",
   "nbconvert_exporter": "python",
   "pygments_lexer": "ipython3",
   "version": "3.11.10"
  }
 },
 "nbformat": 4,
 "nbformat_minor": 2
}
