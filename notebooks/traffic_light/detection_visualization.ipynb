{
 "cells": [
  {
   "cell_type": "code",
   "execution_count": 2,
   "id": "6d3018fc-1725-478e-992b-e84196742087",
   "metadata": {},
   "outputs": [],
   "source": [
    "import os\n",
    "import random\n",
    "\n",
    "from PIL import Image, ImageDraw"
   ]
  },
  {
   "cell_type": "code",
   "execution_count": 3,
   "id": "a8dc74d2-790c-4c2a-902d-0da07f52b442",
   "metadata": {},
   "outputs": [],
   "source": [
    "test_anno_path = \"/workspace/traffic_light/ultra/Result/detect/predictions\"\n",
    "test_image_path = \"/workspace/traffic_light/data/detection/test/images\""
   ]
  },
  {
   "cell_type": "code",
   "execution_count": 4,
   "id": "48b3d4a7",
   "metadata": {},
   "outputs": [
    {
     "name": "stdout",
     "output_type": "stream",
     "text": [
      "['veh_go', 'veh_goLeft', 'veh_noSign', 'veh_stop', 'veh_stopLeft', 'veh_stopWarning', 'veh_warning', 'ped_go', 'ped_noSign', 'ped_stop', 'bus_go', 'bus_noSign', 'bus_stop', 'bus_warning']\n"
     ]
    }
   ],
   "source": [
    "categories = categories = [\n",
    "    {\"id\": 0, \"name\": \"veh_go\", \"supercategory\": \"veh_go\"},\n",
    "    {\"id\": 1, \"name\": \"veh_goLeft\", \"supercategory\": \"veh_goLeft\"},\n",
    "    {\"id\": 2, \"name\": \"veh_noSign\", \"supercategory\": \"veh_noSign\"},\n",
    "    {\"id\": 3, \"name\": \"veh_stop\", \"supercategory\": \"veh_stop\"},\n",
    "    {\"id\": 4, \"name\": \"veh_stopLeft\", \"supercategory\": \"veh_stopLeft\"},\n",
    "    {\"id\": 5, \"name\": \"veh_stopWarning\", \"supercategory\": \"veh_stopWarning\"},\n",
    "    {\"id\": 6, \"name\": \"veh_warning\", \"supercategory\": \"veh_warning\"},\n",
    "    {\"id\": 7, \"name\": \"ped_go\", \"supercategory\": \"ped_go\"},\n",
    "    {\"id\": 8, \"name\": \"ped_noSign\", \"supercategory\": \"ped_noSign\"},\n",
    "    {\"id\": 9, \"name\": \"ped_stop\", \"supercategory\": \"ped_stop\"},\n",
    "    {\"id\": 10, \"name\": \"bus_go\", \"supercategory\": \"bus_go\"},\n",
    "    {\"id\": 11, \"name\": \"bus_noSign\", \"supercategory\": \"bus_noSign\"},\n",
    "    {\"id\": 12, \"name\": \"bus_stop\", \"supercategory\": \"bus_stop\"},\n",
    "    {\"id\": 13, \"name\": \"bus_warning\", \"supercategory\": \"bus_warning\"},\n",
    "]\n",
    "\n",
    "print([categories[i][\"name\"] for i in range(14)])"
   ]
  },
  {
   "cell_type": "markdown",
   "id": "06b5b2e7-4ed5-4d7d-a840-39e8081c3c32",
   "metadata": {},
   "source": [
    "# visualization\n",
    "- ref : https://huggingface.co/docs/transformers/tasks/object_detection"
   ]
  },
  {
   "cell_type": "code",
   "execution_count": 5,
   "id": "fd53754b-6e99-42b7-b370-db3b1405252e",
   "metadata": {},
   "outputs": [
    {
     "name": "stdout",
     "output_type": "stream",
     "text": [
      "10012447.jpg\n"
     ]
    }
   ],
   "source": [
    "# random visualization\n",
    "test_annos = os.listdir(test_anno_path)\n",
    "random_num = random.randrange(10000000, 10000000 + len(test_annos))\n",
    "\n",
    "test_anno = os.path.join(test_anno_path, f\"{random_num}.txt\")\n",
    "sample_img = os.path.join(test_image_path, f\"{random_num}.jpg\")\n",
    "print(os.path.basename(sample_img))\n",
    "\n",
    "img = Image.open(sample_img)\n",
    "original_w, original_h = img.size\n",
    "\n",
    "draw = ImageDraw.Draw(img)\n",
    "\n",
    "categories = [\n",
    "    \"veh_go\",\n",
    "    \"veh_goLeft\",\n",
    "    \"veh_noSign\",\n",
    "    \"veh_stop\",\n",
    "    \"veh_stopLeft\",\n",
    "    \"veh_stopWarning\",\n",
    "    \"veh_warning\",\n",
    "    \"ped_go\",\n",
    "    \"ped_noSign\",\n",
    "    \"ped_stop\",\n",
    "    \"bus_go\",\n",
    "    \"bus_noSign\",\n",
    "    \"bus_stop\",\n",
    "    \"bus_warning\",\n",
    "]\n",
    "id2label = {index: x for index, x in enumerate(categories, start=0)}\n",
    "label2id = {v: k for k, v in id2label.items()}\n",
    "\n",
    "with open(test_anno, \"r\") as file:\n",
    "    for line in file:\n",
    "        class_id, norm_center_x, norm_center_y, norm_w, norm_h, confidence_score = map(\n",
    "            float, line.strip().split()\n",
    "        )\n",
    "\n",
    "        x_min = (norm_center_x - norm_w / 2) * original_w\n",
    "        y_min = (norm_center_y - norm_h / 2) * original_h\n",
    "        x_max = (norm_center_x - norm_w / 2) * original_w + norm_w * original_w\n",
    "        y_max = (norm_center_y - norm_h / 2) * original_h + norm_h * original_h\n",
    "\n",
    "        draw.rectangle((x_min, y_min, x_max, y_max), outline=\"red\", width=1)\n",
    "        draw.text((x_min, y_min), id2label[class_id], fill=\"white\")\n",
    "\n",
    "# img"
   ]
  }
 ],
 "metadata": {
  "kernelspec": {
   "display_name": "ultra",
   "language": "python",
   "name": "python3"
  },
  "language_info": {
   "codemirror_mode": {
    "name": "ipython",
    "version": 3
   },
   "file_extension": ".py",
   "mimetype": "text/x-python",
   "name": "python",
   "nbconvert_exporter": "python",
   "pygments_lexer": "ipython3",
   "version": "3.8.20"
  }
 },
 "nbformat": 4,
 "nbformat_minor": 5
}
