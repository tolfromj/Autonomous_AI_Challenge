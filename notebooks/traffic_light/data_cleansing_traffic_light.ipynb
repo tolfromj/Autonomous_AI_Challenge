{
 "cells": [
  {
   "cell_type": "code",
   "execution_count": 1,
   "id": "a4bfb4da-1fba-49f8-9a9c-b015bcd85f7d",
   "metadata": {},
   "outputs": [],
   "source": [
    "import os\n",
    "import json\n",
    "from tqdm import tqdm\n",
    "from pycocotools.coco import COCO"
   ]
  },
  {
   "cell_type": "code",
   "execution_count": null,
   "id": "178867e7",
   "metadata": {},
   "outputs": [],
   "source": [
    "# train ->List[file_name]\n",
    "# x_max > orign w :  [276, 561, 566, 16619, 17988, 26798]\n",
    "# y_max > orign h :  [22706, 26573]\n",
    "# x_min < 0:  [5177, 6733, 12059, 13632, 20671, 21533]\n",
    "# y_min < 0:  [5225, 10205, 10205]\n",
    "\n",
    "# val ->List[file_name]\n",
    "# x_max > orign w :  [3502, 3503, 3504, 3505, 3506, 8360, 23155]\n",
    "# y_max > orign h :  [4767, 4767, 4768, 4769, 4770, 4770, 4774, 4774, 4789]\n",
    "# x_min < 0:  [25320]\n",
    "# y_min < 0:  [23082]"
   ]
  },
  {
   "cell_type": "code",
   "execution_count": 2,
   "id": "0dbe1c09",
   "metadata": {},
   "outputs": [
    {
     "name": "stdout",
     "output_type": "stream",
     "text": [
      "loading annotations into memory...\n",
      "Done (t=0.02s)\n",
      "creating index...\n",
      "index created!\n"
     ]
    }
   ],
   "source": [
    "root_path = '/workspace/traffic_light/data/detection/val'\n",
    "coco = COCO(os.path.join(root_path, 'val.json'))"
   ]
  },
  {
   "cell_type": "code",
   "execution_count": 89,
   "id": "d9659714",
   "metadata": {},
   "outputs": [
    {
     "name": "stderr",
     "output_type": "stream",
     "text": [
      "100%|██████████| 2686/2686 [00:00<00:00, 207185.17it/s]"
     ]
    },
    {
     "name": "stdout",
     "output_type": "stream",
     "text": [
      "cnt: 0\n"
     ]
    },
    {
     "name": "stderr",
     "output_type": "stream",
     "text": [
      "\n"
     ]
    }
   ],
   "source": [
    "def modify_annos(root_path, anno_id, box):\n",
    "    base = os.path.basename(root_path)\n",
    "    with open(os.path.join(root_path, f'{base}.json'), 'r') as f:\n",
    "        coco_data = json.load(f)\n",
    "        for annotation in coco_data['annotations']:\n",
    "            if annotation['id'] == anno_id:\n",
    "                annotation['bbox'] = box\n",
    "\n",
    "    with open(os.path.join(root_path, f'{base}.json'), 'w') as f:\n",
    "        json.dump(coco_data, f, indent=4)\n",
    "\n",
    "cnt = 0\n",
    "for _id in tqdm(sorted(coco.getImgIds())):\n",
    "    # _id = 276\n",
    "    # print(coco.loadImgs(_id))\n",
    "    w = coco.loadImgs(_id)[0]['width']\n",
    "    h = coco.loadImgs(_id)[0]['height']\n",
    "    # print(coco.getAnnIds(_id))\n",
    "    for i in coco.getAnnIds(_id):\n",
    "        need_modify = False\n",
    "        bbox = coco.loadAnns(i)[0]['bbox']\n",
    "        x_max = bbox[0]+bbox[2]\n",
    "        x_min = bbox[0]\n",
    "        y_max = bbox[1]+bbox[3]\n",
    "        y_min = bbox[1]\n",
    "        if x_max > w:\n",
    "            print()\n",
    "            print('x_max', coco.loadAnns(i))\n",
    "            bbox[2] = float(w-bbox[0])\n",
    "            need_modify = True\n",
    "            cnt +=1\n",
    "\n",
    "        if x_min < 0:\n",
    "            print(f'(w:{w},h:{h}')\n",
    "            print('x_min',coco.loadAnns(i))\n",
    "            bbox[0] = float(0)\n",
    "            need_modify = True\n",
    "            cnt +=1\n",
    "\n",
    "        if y_max > h:\n",
    "            print()\n",
    "            print('y_max',coco.loadAnns(i))\n",
    "            bbox[3] = float(h-bbox[1])\n",
    "            need_modify = True\n",
    "            cnt +=1\n",
    "\n",
    "        if y_min < 0:\n",
    "            print(f'(w:{w},h:{h}')\n",
    "            print('y_min', coco.loadAnns(i))\n",
    "            bbox[1] = float(0)\n",
    "            need_modify = True\n",
    "            cnt +=1\n",
    "\n",
    "        \n",
    "        # if need_modify:\n",
    "        #     modify_annos(root_path, i, bbox)\n",
    "print('cnt:',cnt)"
   ]
  },
  {
   "cell_type": "code",
   "execution_count": 8,
   "id": "31112c30",
   "metadata": {},
   "outputs": [
    {
     "name": "stdout",
     "output_type": "stream",
     "text": [
      "dict_keys(['ori_shape', 'img_path', 'pad_shape', 'img_id', 'img_shape', 'batch_input_shape', 'scale_factor', 'pred_instances'])\n",
      "dict_keys(['bboxes', 'labels', 'scores'])\n",
      "300\n",
      "300\n",
      "tensor([[507.0966, 344.4064, 548.6027, 354.9404],\n",
      "        [330.9306, 348.4921, 371.2928, 359.2637],\n",
      "        [472.9115, 427.7584, 490.9619, 434.1396],\n",
      "        ...,\n",
      "        [201.8082, 436.5136, 215.3690, 444.6447],\n",
      "        [415.6876, 456.8303, 424.1629, 462.9742],\n",
      "        [691.5817, 465.6791, 704.4044, 473.9737]])\n",
      "10000000\n",
      "/workspace/traffic_light/data/detection/test/images/10000000.jpg\n",
      "(800, 1333)\n",
      "(768, 1280)\n"
     ]
    }
   ],
   "source": [
    "import pickle\n",
    "\n",
    "# 파일 열기\n",
    "with open('/workspace/traffic_light/mmdetection/outputs_result/v1.pkl', 'rb') as file:\n",
    "    data = pickle.load(file)\n",
    "    # print(len(data[0].keys())\n",
    "    print(data[0].keys())\n",
    "    # print(data[0]['pad_shape'])\n",
    "    print(data[0]['pred_instances'].keys())\n",
    "    print(len(data[0]['pred_instances']['scores']))\n",
    "    print(len(data[0]['pred_instances']['bboxes']))\n",
    "    print(data[0]['pred_instances']['bboxes'])\n",
    "    print(data[0]['img_id'])\n",
    "    print(data[0]['img_path'])\n",
    "    print(data[0]['img_shape'])\n",
    "    print(data[0]['ori_shape'])\n",
    "    \n",
    "# print(data)"
   ]
  }
 ],
 "metadata": {
  "kernelspec": {
   "display_name": "traffic",
   "language": "python",
   "name": "python3"
  },
  "language_info": {
   "codemirror_mode": {
    "name": "ipython",
    "version": 3
   },
   "file_extension": ".py",
   "mimetype": "text/x-python",
   "name": "python",
   "nbconvert_exporter": "python",
   "pygments_lexer": "ipython3",
   "version": "3.11.10"
  }
 },
 "nbformat": 4,
 "nbformat_minor": 5
}
