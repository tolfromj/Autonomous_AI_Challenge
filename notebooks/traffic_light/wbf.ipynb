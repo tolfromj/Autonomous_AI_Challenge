{
 "cells": [
  {
   "cell_type": "code",
   "execution_count": 77,
   "metadata": {},
   "outputs": [],
   "source": [
    "import os\n",
    "import pandas as pd\n",
    "import numpy as np\n",
    "from tqdm import tqdm\n",
    "from glob import glob\n",
    "import sys\n",
    "from ensemble_boxes import weighted_boxes_fusion as wbf"
   ]
  },
  {
   "cell_type": "code",
   "execution_count": 79,
   "metadata": {},
   "outputs": [],
   "source": [
    "def xywhn2xyxy(norm_center_x, norm_center_y, norm_w, norm_h):\n",
    "    norm_center_x = float(norm_center_x)\n",
    "    norm_center_y = float(norm_center_y)\n",
    "    norm_w = float(norm_w)\n",
    "    norm_h = float(norm_h)\n",
    "    x_min = float(0) if (norm_center_x - norm_w / 2) < 0 else (norm_center_x - norm_w / 2)\n",
    "    y_min = float(0) if (norm_center_y - norm_h / 2) < 0 else (norm_center_y - norm_h / 2)\n",
    "    x_max = float(1) if (norm_center_x + norm_w / 2) > 1 else (norm_center_x + norm_w / 2) \n",
    "    y_max = float(1) if (norm_center_y + norm_h / 2) > 1 else (norm_center_y + norm_h / 2)\n",
    "    return (x_min, y_min, x_max, y_max)\n",
    "\n",
    "def xyxyn2xywhn(bbox):\n",
    "    x_min, y_min, x_max, y_max  = bbox\n",
    "    norm_w = np.abs(x_max-x_min)\n",
    "    norm_h = np.abs(y_max-y_min)\n",
    "    norm_center_x = (x_max+x_min)/2\n",
    "    norm_center_y = (y_max+y_min)/2\n",
    "    return (norm_center_x, norm_center_y, norm_w, norm_h)"
   ]
  },
  {
   "cell_type": "code",
   "execution_count": 81,
   "metadata": {},
   "outputs": [],
   "source": [
    "def make_df_list(results_path):\n",
    "    df_list = []\n",
    "    file_names = []\n",
    "\n",
    "    for i, result in enumerate(os.listdir(results_path)):\n",
    "        if result not in [\"yolo10_a100\", \"dino_swin_re\"]:\n",
    "            continue\n",
    "        data = []\n",
    "        file_names = sorted(os.listdir(os.path.join(results_path, result)))\n",
    "        for file_name in tqdm(file_names):\n",
    "            file_path = os.path.join(results_path, result, file_name)\n",
    "            with open(file_path, 'r') as file:\n",
    "                for line in file:\n",
    "                    label, norm_center_x, norm_center_y, norm_w, norm_h, cs = line.split()\n",
    "                    x_min, y_min, x_max, y_max = xywhn2xyxy(norm_center_x, norm_center_y, norm_w, norm_h)\n",
    "                    data.append([file_name, int(label), float(x_min), \n",
    "                                    float(y_min), float(x_max), float(y_max), float(cs)])\n",
    "        df_list.append(pd.DataFrame(data, columns=[\"file_name\", \"label\", \"x_min\", \n",
    "                                        \"y_min\", \"x_max\", \"y_max\", \"cs\"]))\n",
    "    print(f\"{i} dataframes were created\")\n",
    "    return df_list, file_names"
   ]
  },
  {
   "cell_type": "code",
   "execution_count": 82,
   "metadata": {},
   "outputs": [],
   "source": [
    "def weights_box_fusion(results_path, save_dir):\n",
    "    \n",
    "    df_list, file_names = make_df_list(results_path)\n",
    "\n",
    "    for file_name in tqdm(file_names):\n",
    "        boxes_list=[]\n",
    "        scores_list=[]\n",
    "        labels_list=[]\n",
    "\n",
    "        for df in df_list:\n",
    "            sub_df = df[df['file_name']==file_name]\n",
    "            boxes_list.append(sub_df[['x_min', 'y_min', 'x_max', 'y_max']].apply(lambda row: [row['x_min'], \n",
    "                                                                                              row['y_min'], \n",
    "                                                                                              row['x_max'], \n",
    "                                                                                              row['y_max']], \n",
    "                                                                                              axis=1).tolist())\n",
    "            scores_list.append(sub_df['cs'].tolist())\n",
    "            labels_list.append(sub_df['label'].tolist())\n",
    "        \n",
    "        if any(box_list for box_list in boxes_list if box_list):\n",
    "            boxes, scores, labels = wbf(\n",
    "                boxes_list, scores_list, labels_list,\n",
    "                weights=None, iou_thr=0.55, skip_box_thr=0.001\n",
    "            )\n",
    "        \n",
    "        with open(os.path.join(save_dir, file_name),'w') as f:\n",
    "            for box, cs, label in zip(boxes, scores, labels):\n",
    "                norm_center_x, norm_center_y, norm_w, norm_h=xyxyn2xywhn(box)\n",
    "                f.write(\"%d %lf %lf %lf %lf %lf\\n\"%(label, norm_center_x, norm_center_y, norm_w, norm_h, cs))"
   ]
  },
  {
   "cell_type": "code",
   "execution_count": 83,
   "metadata": {},
   "outputs": [
    {
     "name": "stderr",
     "output_type": "stream",
     "text": [
      "100%|██████████| 13505/13505 [00:00<00:00, 36795.75it/s]\n",
      "100%|██████████| 13505/13505 [00:00<00:00, 25417.56it/s]\n"
     ]
    },
    {
     "name": "stdout",
     "output_type": "stream",
     "text": [
      "4 dataframes were created\n"
     ]
    },
    {
     "name": "stderr",
     "output_type": "stream",
     "text": [
      "100%|██████████| 13505/13505 [03:07<00:00, 72.01it/s]\n"
     ]
    }
   ],
   "source": [
    "results_path = '/workspace/traffic_light/submission'\n",
    "save_dir = '/workspace/traffic_light/submission/wbf_dino_swin_epoch_2_yolo10_a100'\n",
    "\n",
    "os.makedirs(save_dir, exist_ok=True)\n",
    "weights_box_fusion(results_path, save_dir)"
   ]
  }
 ],
 "metadata": {
  "kernelspec": {
   "display_name": "traffic",
   "language": "python",
   "name": "python3"
  },
  "language_info": {
   "codemirror_mode": {
    "name": "ipython",
    "version": 3
   },
   "file_extension": ".py",
   "mimetype": "text/x-python",
   "name": "python",
   "nbconvert_exporter": "python",
   "pygments_lexer": "ipython3",
   "version": "3.11.10"
  }
 },
 "nbformat": 4,
 "nbformat_minor": 2
}
