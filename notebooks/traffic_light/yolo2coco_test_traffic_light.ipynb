{
 "cells": [
  {
   "cell_type": "code",
   "execution_count": 1,
   "id": "a4bfb4da-1fba-49f8-9a9c-b015bcd85f7d",
   "metadata": {},
   "outputs": [],
   "source": [
    "import os\n",
    "import json\n",
    "from tqdm import tqdm\n",
    "from PIL import Image"
   ]
  },
  {
   "cell_type": "code",
   "execution_count": 9,
   "id": "3212621f-c790-4a08-97a4-89050c920169",
   "metadata": {},
   "outputs": [],
   "source": [
    "categories = [\n",
    "    {\"id\": 0, \"name\": \"veh_go\", \"supercategory\": \"veh_go\"},\n",
    "    {\"id\": 1, \"name\": \"veh_goLeft\", \"supercategory\": \"veh_goLeft\"},\n",
    "    {\"id\": 2, \"name\": \"veh_noSign\", \"supercategory\": \"veh_noSign\"},\n",
    "    {\"id\": 3, \"name\": \"veh_stop\", \"supercategory\": \"veh_stop\"},\n",
    "    {\"id\": 4, \"name\": \"veh_stopLeft\", \"supercategory\": \"veh_stopLeft\"},\n",
    "    {\"id\": 5, \"name\": \"veh_stopWarning\", \"supercategory\": \"veh_stopWarning\"},\n",
    "    {\"id\": 6, \"name\": \"veh_warning\", \"supercategory\": \"veh_warning\"},\n",
    "    {\"id\": 7, \"name\": \"ped_go\", \"supercategory\": \"ped_go\"},\n",
    "    {\"id\": 8, \"name\": \"ped_noSign\", \"supercategory\": \"ped_noSign\"},\n",
    "    {\"id\": 9, \"name\": \"ped_stop\", \"supercategory\": \"ped_stop\"},\n",
    "    {\"id\": 10, \"name\": \"bus_go\", \"supercategory\": \"bus_go\"},\n",
    "    {\"id\": 11, \"name\": \"bus_noSign\", \"supercategory\": \"bus_noSign\"},\n",
    "    {\"id\": 12, \"name\": \"bus_stop\", \"supercategory\": \"bus_stop\"},\n",
    "    {\"id\": 13, \"name\": \"bus_warning\", \"supercategory\": \"bus_warning\"}\n",
    "]\n",
    "\n",
    "coco_dataset = {\n",
    "    \"info\": {\n",
    "        \"year\": 2024, \n",
    "        \"version\": \"1.0.0\", \n",
    "        \"description\": \"traffic light\", \n",
    "        \"contributor\": \"tlfromj\", \n",
    "        \"url\": \"\", \n",
    "        \"date_created\": \"2024-10-22 15:00:00\",\n",
    "    },\n",
    "    \"licenses\": [{\n",
    "        \"id\": 0, \n",
    "        \"name\": None, \n",
    "        \"url\": None,\n",
    "    }],\n",
    "    \"categories\": categories,\n",
    "    \"images\": [],\n",
    "    \"annotations\": []\n",
    "}\n",
    "\n",
    "def make_test_coco(output_dir):\n",
    "    img_path = os.path.join(output_dir, 'images')\n",
    "    images = sorted(os.listdir(img_path))\n",
    "\n",
    "\n",
    "    for image in tqdm(images):\n",
    "        file_name = os.path.splitext(image)[0]\n",
    "        with Image.open(os.path.join(img_path, image)) as img:\n",
    "            original_w, original_h = img.size\n",
    "        image_dict = {\n",
    "            \"id\": int(file_name),\n",
    "            \"width\": int(original_w),\n",
    "            \"height\": int(original_h),\n",
    "            \"file_name\": image, # train/file_name.jpg\n",
    "            \"license\": 0,\n",
    "            \"flickr_url\": None,\n",
    "            \"coco_url\": None,\n",
    "            \"date_captured\": None,\n",
    "        }\n",
    "        \n",
    "        coco_dataset[\"images\"].append(image_dict)\n",
    "\n",
    "    # make coco_datset.json\n",
    "    with open(os.path.join(output_dir, 'test.json'), 'w') as f:\n",
    "        json.dump(coco_dataset, f)\n",
    "\n"
   ]
  },
  {
   "cell_type": "code",
   "execution_count": 10,
   "id": "7870a948-50cf-4643-8c0e-16ba264800e9",
   "metadata": {},
   "outputs": [
    {
     "name": "stderr",
     "output_type": "stream",
     "text": [
      "100%|██████████| 13505/13505 [00:00<00:00, 15028.05it/s]\n"
     ]
    }
   ],
   "source": [
    "output_dir = '/workspace/traffic_light/data/detection/test'\n",
    "make_test_coco(output_dir)"
   ]
  }
 ],
 "metadata": {
  "kernelspec": {
   "display_name": "traffic",
   "language": "python",
   "name": "python3"
  },
  "language_info": {
   "codemirror_mode": {
    "name": "ipython",
    "version": 3
   },
   "file_extension": ".py",
   "mimetype": "text/x-python",
   "name": "python",
   "nbconvert_exporter": "python",
   "pygments_lexer": "ipython3",
   "version": "3.11.10"
  }
 },
 "nbformat": 4,
 "nbformat_minor": 5
}
