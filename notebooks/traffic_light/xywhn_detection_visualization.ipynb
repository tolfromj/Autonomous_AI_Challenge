{
 "cells": [
  {
   "cell_type": "code",
   "execution_count": 1,
   "id": "6d3018fc-1725-478e-992b-e84196742087",
   "metadata": {},
   "outputs": [],
   "source": [
    "import os\n",
    "import random\n",
    "from PIL import Image, ImageDraw"
   ]
  },
  {
   "cell_type": "code",
   "execution_count": 2,
   "id": "a8dc74d2-790c-4c2a-902d-0da07f52b442",
   "metadata": {},
   "outputs": [],
   "source": [
    "# test_anno_path = \"/workspace/traffic_light/data/detection/train/labels\"\n",
    "test_anno_path = \"/workspace/traffic_light/wbf_output/wbf_yolo\"#dino_swin_re\" # \"/workspace/traffic_light/Result/detect/predictions/v1\"\n",
    "test_image_path = \"/workspace/traffic_light/data/detection/test/images\""
   ]
  },
  {
   "cell_type": "code",
   "execution_count": 3,
   "id": "48b3d4a7",
   "metadata": {},
   "outputs": [],
   "source": [
    "categories = [\n",
    "    \"veh_go\",\n",
    "    \"veh_goLeft\",\n",
    "    \"veh_noSign\",\n",
    "    \"veh_stop\",\n",
    "    \"veh_stopLeft\",\n",
    "    \"veh_stopWarning\",\n",
    "    \"veh_warning\",\n",
    "    \"ped_go\",\n",
    "    \"ped_noSign\",\n",
    "    \"ped_stop\",\n",
    "    \"bus_go\",\n",
    "    \"bus_noSign\",\n",
    "    \"bus_stop\",\n",
    "    \"bus_warning\",\n",
    "]\n",
    "id2label = {index: x for index, x in enumerate(categories, start=0)}\n",
    "label2id = {v: k for k, v in id2label.items()}"
   ]
  },
  {
   "cell_type": "markdown",
   "id": "06b5b2e7-4ed5-4d7d-a840-39e8081c3c32",
   "metadata": {},
   "source": [
    "# visualization\n",
    "- ref : https://huggingface.co/docs/transformers/tasks/object_detection"
   ]
  },
  {
   "cell_type": "code",
   "execution_count": 123,
   "id": "fd53754b-6e99-42b7-b370-db3b1405252e",
   "metadata": {},
   "outputs": [
    {
     "name": "stdout",
     "output_type": "stream",
     "text": [
      "10005495.jpg\n",
      "11\n"
     ]
    }
   ],
   "source": [
    "# random visualization\n",
    "test_annos = os.listdir(test_anno_path)\n",
    "# random_num = random.randrange(10004000, 10006000)# + len(test_annos))\n",
    "random_num = '10005495'\n",
    "test_anno = os.path.join(test_anno_path, f\"{random_num}.txt\")\n",
    "sample_img = os.path.join(test_image_path, f\"{random_num}.jpg\")\n",
    "print(os.path.basename(sample_img))\n",
    "\n",
    "img = Image.open(sample_img)\n",
    "original_w, original_h = img.size\n",
    "# print(original_w, original_h)\n",
    "draw = ImageDraw.Draw(img)\n",
    "cnt = 0\n",
    "with open(test_anno, \"r\") as file:\n",
    "    for line in file:\n",
    "        class_id, norm_center_x, norm_center_y, norm_w, norm_h, cs= line.split()\n",
    "        # if float(cs) < 0.05:\n",
    "        #     continue\n",
    "        cnt +=1 \n",
    "        class_id = int(class_id)\n",
    "        norm_center_x = float(norm_center_x)\n",
    "        norm_center_y = float(norm_center_y)\n",
    "        norm_w = float(norm_w)\n",
    "        norm_h = float(norm_h)\n",
    "        # print( norm_center_x, norm_center_y, norm_w, norm_h)\n",
    "        x_min = (norm_center_x - norm_w / 2) * original_w\n",
    "        y_min = (norm_center_y - norm_h / 2) * original_h\n",
    "        x_max = (norm_center_x + norm_w / 2) * original_w #+ norm_w * original_w\n",
    "        y_max = (norm_center_y + norm_h / 2) * original_h #+ norm_h * original_h\n",
    "\n",
    "        draw.rectangle((x_min, y_min, x_max, y_max), outline=\"red\", width=1)\n",
    "        draw.text((x_min, y_min), id2label[class_id], fill=\"white\")\n",
    "print(cnt)\n",
    "# img"
   ]
  }
 ],
 "metadata": {
  "kernelspec": {
   "display_name": "traffic",
   "language": "python",
   "name": "python3"
  },
  "language_info": {
   "codemirror_mode": {
    "name": "ipython",
    "version": 3
   },
   "file_extension": ".py",
   "mimetype": "text/x-python",
   "name": "python",
   "nbconvert_exporter": "python",
   "pygments_lexer": "ipython3",
   "version": "3.11.10"
  }
 },
 "nbformat": 4,
 "nbformat_minor": 5
}
